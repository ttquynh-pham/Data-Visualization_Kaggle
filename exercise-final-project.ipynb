{
 "cells": [
  {
   "cell_type": "markdown",
   "id": "c70900d4",
   "metadata": {
    "papermill": {
     "duration": 0.015399,
     "end_time": "2022-03-30T16:50:37.406797",
     "exception": false,
     "start_time": "2022-03-30T16:50:37.391398",
     "status": "completed"
    },
    "tags": []
   },
   "source": [
    "**This notebook is an exercise in the [Data Visualization](https://www.kaggle.com/learn/data-visualization) course.  You can reference the tutorial at [this link](https://www.kaggle.com/alexisbcook/final-project).**\n",
    "\n",
    "---\n"
   ]
  },
  {
   "cell_type": "markdown",
   "id": "4345e7c9",
   "metadata": {
    "papermill": {
     "duration": 0.01378,
     "end_time": "2022-03-30T16:50:37.436646",
     "exception": false,
     "start_time": "2022-03-30T16:50:37.422866",
     "status": "completed"
    },
    "tags": []
   },
   "source": [
    "Now it's time for you to demonstrate your new skills with a project of your own!\n",
    "\n",
    "In this exercise, you will work with a dataset of your choosing.  Once you've selected a dataset, you'll design and create your own plot to tell interesting stories behind the data!\n",
    "\n",
    "## Setup\n",
    "\n",
    "Run the next cell to import and configure the Python libraries that you need to complete the exercise."
   ]
  },
  {
   "cell_type": "code",
   "execution_count": 1,
   "id": "1da4f6ef",
   "metadata": {
    "execution": {
     "iopub.execute_input": "2022-03-30T16:50:37.475082Z",
     "iopub.status.busy": "2022-03-30T16:50:37.474489Z",
     "iopub.status.idle": "2022-03-30T16:50:38.570317Z",
     "shell.execute_reply": "2022-03-30T16:50:38.570826Z",
     "shell.execute_reply.started": "2022-03-30T16:09:53.399187Z"
    },
    "papermill": {
     "duration": 1.119221,
     "end_time": "2022-03-30T16:50:38.571107",
     "exception": false,
     "start_time": "2022-03-30T16:50:37.451886",
     "status": "completed"
    },
    "tags": []
   },
   "outputs": [
    {
     "name": "stdout",
     "output_type": "stream",
     "text": [
      "Setup Complete\n"
     ]
    }
   ],
   "source": [
    "import pandas as pd\n",
    "pd.plotting.register_matplotlib_converters()\n",
    "import matplotlib.pyplot as plt\n",
    "%matplotlib inline\n",
    "import seaborn as sns\n",
    "print(\"Setup Complete\")"
   ]
  },
  {
   "cell_type": "markdown",
   "id": "7a743fc6",
   "metadata": {
    "papermill": {
     "duration": 0.014184,
     "end_time": "2022-03-30T16:50:38.600308",
     "exception": false,
     "start_time": "2022-03-30T16:50:38.586124",
     "status": "completed"
    },
    "tags": []
   },
   "source": [
    "The questions below will give you feedback on your work. Run the following cell to set up the feedback system."
   ]
  },
  {
   "cell_type": "code",
   "execution_count": 2,
   "id": "91447c54",
   "metadata": {
    "execution": {
     "iopub.execute_input": "2022-03-30T16:50:38.634716Z",
     "iopub.status.busy": "2022-03-30T16:50:38.634087Z",
     "iopub.status.idle": "2022-03-30T16:50:38.674687Z",
     "shell.execute_reply": "2022-03-30T16:50:38.674038Z",
     "shell.execute_reply.started": "2022-03-30T16:09:57.145280Z"
    },
    "papermill": {
     "duration": 0.059928,
     "end_time": "2022-03-30T16:50:38.674826",
     "exception": false,
     "start_time": "2022-03-30T16:50:38.614898",
     "status": "completed"
    },
    "tags": []
   },
   "outputs": [
    {
     "name": "stdout",
     "output_type": "stream",
     "text": [
      "Setup Complete\n"
     ]
    }
   ],
   "source": [
    "# Set up code checking\n",
    "from learntools.core import binder\n",
    "binder.bind(globals())\n",
    "from learntools.data_viz_to_coder.ex7 import *\n",
    "print(\"Setup Complete\")"
   ]
  },
  {
   "cell_type": "markdown",
   "id": "e714f3a2",
   "metadata": {
    "papermill": {
     "duration": 0.01475,
     "end_time": "2022-03-30T16:50:38.704389",
     "exception": false,
     "start_time": "2022-03-30T16:50:38.689639",
     "status": "completed"
    },
    "tags": []
   },
   "source": [
    "## Step 1: Attach a dataset to the notebook\n",
    "\n",
    "Begin by selecting a CSV dataset from [Kaggle Datasets](https://www.kaggle.com/datasets).  If you're unsure how to do this, please revisit the instructions in the previous tutorial.\n",
    "\n",
    "Once you have selected a dataset, click on the **[+ Add data]** option in the top right corner.  This will generate a pop-up window that you can use to search for your chosen dataset.  \n",
    "\n",
    "![ex6_search_dataset](https://i.imgur.com/cIIWPUS.png)\n",
    "\n",
    "Once you have found the dataset, click on the **[Add]** button to attach it to the notebook.  You can check that it was successful by looking at the **Data** dropdown menu to the right of the notebook -- look for an **input** folder containing a subfolder that matches the name of the dataset.\n",
    "\n",
    "<center>\n",
    "<img src=\"https://i.imgur.com/nMYc1Nu.png\" width=30%><br/>\n",
    "</center>\n",
    "\n",
    "You can click on the carat to the left of the name of the dataset to double-check that it contains a CSV file.  For instance, the image below shows that the example dataset contains two CSV files: (1) **dc-wikia-data.csv**, and (2) **marvel-wikia-data.csv**.\n",
    "\n",
    "<center>\n",
    "<img src=\"https://i.imgur.com/B4sJkVA.png\" width=30%><br/>\n",
    "</center>\n",
    "\n",
    "Once you've uploaded a dataset with a CSV file, run the code cell below **without changes** to receive credit for your work!"
   ]
  },
  {
   "cell_type": "code",
   "execution_count": 3,
   "id": "a06d7e2a",
   "metadata": {
    "execution": {
     "iopub.execute_input": "2022-03-30T16:50:38.737528Z",
     "iopub.status.busy": "2022-03-30T16:50:38.736620Z",
     "iopub.status.idle": "2022-03-30T16:50:38.757125Z",
     "shell.execute_reply": "2022-03-30T16:50:38.757630Z",
     "shell.execute_reply.started": "2022-03-30T16:41:44.205838Z"
    },
    "papermill": {
     "duration": 0.038804,
     "end_time": "2022-03-30T16:50:38.757819",
     "exception": false,
     "start_time": "2022-03-30T16:50:38.719015",
     "status": "completed"
    },
    "tags": []
   },
   "outputs": [
    {
     "data": {
      "application/javascript": [
       "parent.postMessage({\"jupyterEvent\": \"custom.exercise_interaction\", \"data\": {\"outcomeType\": 1, \"valueTowardsCompletion\": 0.25, \"interactionType\": 1, \"questionType\": 2, \"questionId\": \"1_AttachData\", \"learnToolsVersion\": \"0.3.4\", \"failureMessage\": \"\", \"exceptionClass\": \"\", \"trace\": \"\"}}, \"*\")"
      ],
      "text/plain": [
       "<IPython.core.display.Javascript object>"
      ]
     },
     "metadata": {},
     "output_type": "display_data"
    },
    {
     "data": {
      "text/markdown": [
       "<span style=\"color:#33cc33\">Correct:</span> \n",
       "\n"
      ],
      "text/plain": [
       "Correct: \n"
      ]
     },
     "metadata": {},
     "output_type": "display_data"
    }
   ],
   "source": [
    "# Check for a dataset with a CSV file\n",
    "step_1.check()"
   ]
  },
  {
   "cell_type": "markdown",
   "id": "caf0cc53",
   "metadata": {
    "papermill": {
     "duration": 0.01542,
     "end_time": "2022-03-30T16:50:38.790221",
     "exception": false,
     "start_time": "2022-03-30T16:50:38.774801",
     "status": "completed"
    },
    "tags": []
   },
   "source": [
    "## Step 2: Specify the filepath\n",
    "\n",
    "Now that the dataset is attached to the notebook, you can find its filepath.  To do this, begin by clicking on the CSV file you'd like to use.  This will open the CSV file in a tab below the notebook.  You can find the filepath towards the top of this new tab.  \n",
    "\n",
    "![ex6_filepath](https://i.imgur.com/fgXQV47.png)\n",
    "\n",
    "After you find the filepath corresponding to your dataset, fill it in as the value for `my_filepath` in the code cell below, and run the code cell to check that you've provided a valid filepath.  For instance, in the case of this example dataset, we would set\n",
    "```\n",
    "my_filepath = \"../input/fivethirtyeight-comic-characters-dataset/dc-wikia-data.csv\"\n",
    "```  \n",
    "Note that **you must enclose the filepath in quotation marks**; otherwise, the code will return an error.\n",
    "\n",
    "Once you've entered the filepath, you can close the tab below the notebook by clicking on the **[X]** at the top of the tab."
   ]
  },
  {
   "cell_type": "code",
   "execution_count": 4,
   "id": "d0ef00f3",
   "metadata": {
    "execution": {
     "iopub.execute_input": "2022-03-30T16:50:38.826246Z",
     "iopub.status.busy": "2022-03-30T16:50:38.825292Z",
     "iopub.status.idle": "2022-03-30T16:50:38.832555Z",
     "shell.execute_reply": "2022-03-30T16:50:38.833095Z",
     "shell.execute_reply.started": "2022-03-30T16:42:27.620280Z"
    },
    "papermill": {
     "duration": 0.027106,
     "end_time": "2022-03-30T16:50:38.833258",
     "exception": false,
     "start_time": "2022-03-30T16:50:38.806152",
     "status": "completed"
    },
    "tags": []
   },
   "outputs": [
    {
     "data": {
      "application/javascript": [
       "parent.postMessage({\"jupyterEvent\": \"custom.exercise_interaction\", \"data\": {\"outcomeType\": 1, \"valueTowardsCompletion\": 0.25, \"interactionType\": 1, \"questionType\": 2, \"questionId\": \"2_Filepath\", \"learnToolsVersion\": \"0.3.4\", \"failureMessage\": \"\", \"exceptionClass\": \"\", \"trace\": \"\"}}, \"*\")"
      ],
      "text/plain": [
       "<IPython.core.display.Javascript object>"
      ]
     },
     "metadata": {},
     "output_type": "display_data"
    },
    {
     "data": {
      "text/markdown": [
       "<span style=\"color:#33cc33\">Correct:</span> \n",
       "\n"
      ],
      "text/plain": [
       "Correct: \n"
      ]
     },
     "metadata": {},
     "output_type": "display_data"
    }
   ],
   "source": [
    "# Fill in the line below: Specify the path of the CSV file to read\n",
    "my_filepath = \"../input/world-happiness-report-2022/World Happiness Report 2022.csv\"\n",
    "\n",
    "# Check for a valid filepath to a CSV file in a dataset\n",
    "step_2.check()"
   ]
  },
  {
   "cell_type": "markdown",
   "id": "14a7890c",
   "metadata": {
    "papermill": {
     "duration": 0.018654,
     "end_time": "2022-03-30T16:50:38.870326",
     "exception": false,
     "start_time": "2022-03-30T16:50:38.851672",
     "status": "completed"
    },
    "tags": []
   },
   "source": [
    "## Step 3: Load the data\n",
    "\n",
    "Use the next code cell to load your data file into `my_data`.  Use the filepath that you specified in the previous step."
   ]
  },
  {
   "cell_type": "code",
   "execution_count": 5,
   "id": "4464cf1b",
   "metadata": {
    "execution": {
     "iopub.execute_input": "2022-03-30T16:50:38.908827Z",
     "iopub.status.busy": "2022-03-30T16:50:38.907808Z",
     "iopub.status.idle": "2022-03-30T16:50:38.928769Z",
     "shell.execute_reply": "2022-03-30T16:50:38.929254Z",
     "shell.execute_reply.started": "2022-03-30T16:42:48.898835Z"
    },
    "papermill": {
     "duration": 0.041712,
     "end_time": "2022-03-30T16:50:38.929416",
     "exception": false,
     "start_time": "2022-03-30T16:50:38.887704",
     "status": "completed"
    },
    "tags": []
   },
   "outputs": [
    {
     "data": {
      "application/javascript": [
       "parent.postMessage({\"jupyterEvent\": \"custom.exercise_interaction\", \"data\": {\"outcomeType\": 1, \"valueTowardsCompletion\": 0.25, \"interactionType\": 1, \"questionType\": 2, \"questionId\": \"3_LoadData\", \"learnToolsVersion\": \"0.3.4\", \"failureMessage\": \"\", \"exceptionClass\": \"\", \"trace\": \"\"}}, \"*\")"
      ],
      "text/plain": [
       "<IPython.core.display.Javascript object>"
      ]
     },
     "metadata": {},
     "output_type": "display_data"
    },
    {
     "data": {
      "text/markdown": [
       "<span style=\"color:#33cc33\">Correct:</span> \n",
       "\n"
      ],
      "text/plain": [
       "Correct: \n"
      ]
     },
     "metadata": {},
     "output_type": "display_data"
    }
   ],
   "source": [
    "# Fill in the line below: Read the file into a variable my_data\n",
    "my_data = pd.read_csv(my_filepath)\n",
    "\n",
    "# Check that a dataset has been uploaded into my_data\n",
    "step_3.check()"
   ]
  },
  {
   "cell_type": "markdown",
   "id": "061c0b86",
   "metadata": {
    "papermill": {
     "duration": 0.019249,
     "end_time": "2022-03-30T16:50:38.967609",
     "exception": false,
     "start_time": "2022-03-30T16:50:38.948360",
     "status": "completed"
    },
    "tags": []
   },
   "source": [
    "**_After the code cell above is marked correct_**, run the code cell below without changes to view the first five rows of the data."
   ]
  },
  {
   "cell_type": "code",
   "execution_count": 6,
   "id": "7b2fbb24",
   "metadata": {
    "execution": {
     "iopub.execute_input": "2022-03-30T16:50:39.013077Z",
     "iopub.status.busy": "2022-03-30T16:50:39.011818Z",
     "iopub.status.idle": "2022-03-30T16:50:39.031647Z",
     "shell.execute_reply": "2022-03-30T16:50:39.032168Z",
     "shell.execute_reply.started": "2022-03-30T16:42:52.022509Z"
    },
    "papermill": {
     "duration": 0.046094,
     "end_time": "2022-03-30T16:50:39.032328",
     "exception": false,
     "start_time": "2022-03-30T16:50:38.986234",
     "status": "completed"
    },
    "tags": []
   },
   "outputs": [
    {
     "data": {
      "text/html": [
       "<div>\n",
       "<style scoped>\n",
       "    .dataframe tbody tr th:only-of-type {\n",
       "        vertical-align: middle;\n",
       "    }\n",
       "\n",
       "    .dataframe tbody tr th {\n",
       "        vertical-align: top;\n",
       "    }\n",
       "\n",
       "    .dataframe thead th {\n",
       "        text-align: right;\n",
       "    }\n",
       "</style>\n",
       "<table border=\"1\" class=\"dataframe\">\n",
       "  <thead>\n",
       "    <tr style=\"text-align: right;\">\n",
       "      <th></th>\n",
       "      <th>RANK</th>\n",
       "      <th>Country</th>\n",
       "      <th>Happiness score</th>\n",
       "      <th>Whisker-high</th>\n",
       "      <th>Whisker-low</th>\n",
       "      <th>Dystopia (1.83) + residual</th>\n",
       "      <th>Explained by: GDP per capita</th>\n",
       "      <th>Explained by: Social support</th>\n",
       "      <th>Explained by: Healthy life expectancy</th>\n",
       "      <th>Explained by: Freedom to make life choices</th>\n",
       "      <th>Explained by: Generosity</th>\n",
       "      <th>Explained by: Perceptions of corruption</th>\n",
       "    </tr>\n",
       "  </thead>\n",
       "  <tbody>\n",
       "    <tr>\n",
       "      <th>0</th>\n",
       "      <td>1</td>\n",
       "      <td>Finland</td>\n",
       "      <td>7.821</td>\n",
       "      <td>7.886</td>\n",
       "      <td>7.756</td>\n",
       "      <td>2.518</td>\n",
       "      <td>1.892</td>\n",
       "      <td>1.258</td>\n",
       "      <td>0.775</td>\n",
       "      <td>0.736</td>\n",
       "      <td>0.109</td>\n",
       "      <td>0.534</td>\n",
       "    </tr>\n",
       "    <tr>\n",
       "      <th>1</th>\n",
       "      <td>2</td>\n",
       "      <td>Denmark</td>\n",
       "      <td>7.636</td>\n",
       "      <td>7.710</td>\n",
       "      <td>7.563</td>\n",
       "      <td>2.226</td>\n",
       "      <td>1.953</td>\n",
       "      <td>1.243</td>\n",
       "      <td>0.777</td>\n",
       "      <td>0.719</td>\n",
       "      <td>0.188</td>\n",
       "      <td>0.532</td>\n",
       "    </tr>\n",
       "    <tr>\n",
       "      <th>2</th>\n",
       "      <td>3</td>\n",
       "      <td>Iceland</td>\n",
       "      <td>7.557</td>\n",
       "      <td>7.651</td>\n",
       "      <td>7.464</td>\n",
       "      <td>2.320</td>\n",
       "      <td>1.936</td>\n",
       "      <td>1.320</td>\n",
       "      <td>0.803</td>\n",
       "      <td>0.718</td>\n",
       "      <td>0.270</td>\n",
       "      <td>0.191</td>\n",
       "    </tr>\n",
       "    <tr>\n",
       "      <th>3</th>\n",
       "      <td>4</td>\n",
       "      <td>Switzerland</td>\n",
       "      <td>7.512</td>\n",
       "      <td>7.586</td>\n",
       "      <td>7.437</td>\n",
       "      <td>2.153</td>\n",
       "      <td>2.026</td>\n",
       "      <td>1.226</td>\n",
       "      <td>0.822</td>\n",
       "      <td>0.677</td>\n",
       "      <td>0.147</td>\n",
       "      <td>0.461</td>\n",
       "    </tr>\n",
       "    <tr>\n",
       "      <th>4</th>\n",
       "      <td>5</td>\n",
       "      <td>Netherlands</td>\n",
       "      <td>7.415</td>\n",
       "      <td>7.471</td>\n",
       "      <td>7.359</td>\n",
       "      <td>2.137</td>\n",
       "      <td>1.945</td>\n",
       "      <td>1.206</td>\n",
       "      <td>0.787</td>\n",
       "      <td>0.651</td>\n",
       "      <td>0.271</td>\n",
       "      <td>0.419</td>\n",
       "    </tr>\n",
       "  </tbody>\n",
       "</table>\n",
       "</div>"
      ],
      "text/plain": [
       "   RANK      Country  Happiness score  Whisker-high  Whisker-low  \\\n",
       "0     1      Finland            7.821         7.886        7.756   \n",
       "1     2      Denmark            7.636         7.710        7.563   \n",
       "2     3      Iceland            7.557         7.651        7.464   \n",
       "3     4  Switzerland            7.512         7.586        7.437   \n",
       "4     5  Netherlands            7.415         7.471        7.359   \n",
       "\n",
       "   Dystopia (1.83) + residual  Explained by: GDP per capita  \\\n",
       "0                       2.518                         1.892   \n",
       "1                       2.226                         1.953   \n",
       "2                       2.320                         1.936   \n",
       "3                       2.153                         2.026   \n",
       "4                       2.137                         1.945   \n",
       "\n",
       "   Explained by: Social support  Explained by: Healthy life expectancy  \\\n",
       "0                         1.258                                  0.775   \n",
       "1                         1.243                                  0.777   \n",
       "2                         1.320                                  0.803   \n",
       "3                         1.226                                  0.822   \n",
       "4                         1.206                                  0.787   \n",
       "\n",
       "   Explained by: Freedom to make life choices  Explained by: Generosity  \\\n",
       "0                                       0.736                     0.109   \n",
       "1                                       0.719                     0.188   \n",
       "2                                       0.718                     0.270   \n",
       "3                                       0.677                     0.147   \n",
       "4                                       0.651                     0.271   \n",
       "\n",
       "   Explained by: Perceptions of corruption  \n",
       "0                                    0.534  \n",
       "1                                    0.532  \n",
       "2                                    0.191  \n",
       "3                                    0.461  \n",
       "4                                    0.419  "
      ]
     },
     "execution_count": 6,
     "metadata": {},
     "output_type": "execute_result"
    }
   ],
   "source": [
    "# Print the first five rows of the data\n",
    "my_data.head()"
   ]
  },
  {
   "cell_type": "markdown",
   "id": "a5eb70bd",
   "metadata": {
    "papermill": {
     "duration": 0.019682,
     "end_time": "2022-03-30T16:50:39.072229",
     "exception": false,
     "start_time": "2022-03-30T16:50:39.052547",
     "status": "completed"
    },
    "tags": []
   },
   "source": [
    "## Step 4: Visualize the data\n",
    "\n",
    "Use the next code cell to create a figure that tells a story behind your dataset.  You can use any chart type (_line chart, bar chart, heatmap, etc_) of your choosing!"
   ]
  },
  {
   "cell_type": "code",
   "execution_count": 7,
   "id": "5b309df9",
   "metadata": {
    "execution": {
     "iopub.execute_input": "2022-03-30T16:50:39.114204Z",
     "iopub.status.busy": "2022-03-30T16:50:39.113272Z",
     "iopub.status.idle": "2022-03-30T16:50:39.386134Z",
     "shell.execute_reply": "2022-03-30T16:50:39.385596Z",
     "shell.execute_reply.started": "2022-03-30T16:49:35.950709Z"
    },
    "papermill": {
     "duration": 0.295023,
     "end_time": "2022-03-30T16:50:39.386271",
     "exception": false,
     "start_time": "2022-03-30T16:50:39.091248",
     "status": "completed"
    },
    "tags": []
   },
   "outputs": [
    {
     "data": {
      "application/javascript": [
       "parent.postMessage({\"jupyterEvent\": \"custom.exercise_interaction\", \"data\": {\"outcomeType\": 1, \"valueTowardsCompletion\": 0.25, \"interactionType\": 1, \"questionType\": 2, \"questionId\": \"4_CreatePlot\", \"learnToolsVersion\": \"0.3.4\", \"failureMessage\": \"\", \"exceptionClass\": \"\", \"trace\": \"\"}}, \"*\")"
      ],
      "text/plain": [
       "<IPython.core.display.Javascript object>"
      ]
     },
     "metadata": {},
     "output_type": "display_data"
    },
    {
     "data": {
      "text/markdown": [
       "<span style=\"color:#33cc33\">Correct:</span> \n",
       "\n"
      ],
      "text/plain": [
       "Correct: \n"
      ]
     },
     "metadata": {},
     "output_type": "display_data"
    },
    {
     "data": {
      "image/png": "[encoded data removed]",
      "text/plain": [
       "<Figure size 432x288 with 1 Axes>"
      ]
     },
     "metadata": {
      "needs_background": "light"
     },
     "output_type": "display_data"
    }
   ],
   "source": [
    "# Create a plot\n",
    "sns.scatterplot(x = my_data[\"Explained by: GDP per capita\"], y = my_data[\"Happiness score\"])\n",
    "\n",
    "# Check that a figure appears below\n",
    "step_4.check()"
   ]
  },
  {
   "cell_type": "markdown",
   "id": "1f9134a3",
   "metadata": {
    "papermill": {
     "duration": 0.021022,
     "end_time": "2022-03-30T16:50:39.428580",
     "exception": false,
     "start_time": "2022-03-30T16:50:39.407558",
     "status": "completed"
    },
    "tags": []
   },
   "source": [
    "## Keep going\n",
    "\n",
    "Learn how to use your skills after completing the micro-course to create data visualizations in a **[final tutorial](https://www.kaggle.com/alexisbcook/creating-your-own-notebooks)**."
   ]
  },
  {
   "cell_type": "markdown",
   "id": "09f66997",
   "metadata": {
    "papermill": {
     "duration": 0.022234,
     "end_time": "2022-03-30T16:50:39.472303",
     "exception": false,
     "start_time": "2022-03-30T16:50:39.450069",
     "status": "completed"
    },
    "tags": []
   },
   "source": [
    "---\n",
    "\n",
    "\n",
    "\n",
    "\n",
    "*Have questions or comments? Visit the [course discussion forum](https://www.kaggle.com/learn/data-visualization/discussion) to chat with other learners.*"
   ]
  }
 ],
 "metadata": {
  "kernelspec": {
   "display_name": "Python 3",
   "language": "python",
   "name": "python3"
  },
  "language_info": {
   "codemirror_mode": {
    "name": "ipython",
    "version": 3
   },
   "file_extension": ".py",
   "mimetype": "text/x-python",
   "name": "python",
   "nbconvert_exporter": "python",
   "pygments_lexer": "ipython3",
   "version": "3.7.12"
  },
  "papermill": {
   "default_parameters": {},
   "duration": 12.561489,
   "end_time": "2022-03-30T16:50:40.203858",
   "environment_variables": {},
   "exception": null,
   "input_path": "__notebook__.ipynb",
   "output_path": "__notebook__.ipynb",
   "parameters": {},
   "start_time": "2022-03-30T16:50:27.642369",
   "version": "2.3.3"
  }
 },
 "nbformat": 4,
 "nbformat_minor": 5
}
