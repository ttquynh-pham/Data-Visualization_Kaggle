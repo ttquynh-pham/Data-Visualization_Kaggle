{
 "cells": [
  {
   "cell_type": "markdown",
   "id": "420b7115",
   "metadata": {
    "papermill": {
     "duration": 0.022307,
     "end_time": "2022-03-29T00:43:21.630278",
     "exception": false,
     "start_time": "2022-03-29T00:43:21.607971",
     "status": "completed"
    },
    "tags": []
   },
   "source": [
    "**This notebook is an exercise in the [Data Visualization](https://www.kaggle.com/learn/data-visualization) course.  You can reference the tutorial at [this link](https://www.kaggle.com/alexisbcook/line-charts).**\n",
    "\n",
    "---\n"
   ]
  },
  {
   "cell_type": "markdown",
   "id": "8773b3bb",
   "metadata": {
    "papermill": {
     "duration": 0.020469,
     "end_time": "2022-03-29T00:43:21.672570",
     "exception": false,
     "start_time": "2022-03-29T00:43:21.652101",
     "status": "completed"
    },
    "tags": []
   },
   "source": [
    "In this exercise, you will use your new knowledge to propose a solution to a real-world scenario. To succeed, you will need to import data into Python, answer questions using the data, and generate **line charts** to understand patterns in the data.\n",
    "\n",
    "## Scenario\n",
    "\n",
    "You have recently been hired to manage the museums in the City of Los Angeles. Your first project focuses on the four museums pictured in the images below.\n",
    "\n",
    "![ex1_museums](https://i.imgur.com/pFYL8J1.png)\n",
    "\n",
    "You will leverage data from the Los Angeles [Data Portal](https://data.lacity.org/) that tracks monthly visitors to each museum.  \n",
    "\n",
    "![ex1_xlsx](https://i.imgur.com/mGWYlym.png)\n",
    "\n",
    "## Setup\n",
    "\n",
    "Run the next cell to import and configure the Python libraries that you need to complete the exercise."
   ]
  },
  {
   "cell_type": "code",
   "execution_count": 1,
   "id": "92392c3a",
   "metadata": {
    "execution": {
     "iopub.execute_input": "2022-03-29T00:43:21.720501Z",
     "iopub.status.busy": "2022-03-29T00:43:21.718746Z",
     "iopub.status.idle": "2022-03-29T00:43:22.920071Z",
     "shell.execute_reply": "2022-03-29T00:43:22.920566Z",
     "shell.execute_reply.started": "2022-03-29T00:08:04.007199Z"
    },
    "papermill": {
     "duration": 1.227573,
     "end_time": "2022-03-29T00:43:22.920915",
     "exception": false,
     "start_time": "2022-03-29T00:43:21.693342",
     "status": "completed"
    },
    "tags": []
   },
   "outputs": [
    {
     "name": "stdout",
     "output_type": "stream",
     "text": [
      "Setup Complete\n"
     ]
    }
   ],
   "source": [
    "import pandas as pd\n",
    "pd.plotting.register_matplotlib_converters()\n",
    "import matplotlib.pyplot as plt\n",
    "%matplotlib inline\n",
    "import seaborn as sns\n",
    "print(\"Setup Complete\")"
   ]
  },
  {
   "cell_type": "markdown",
   "id": "434aeac3",
   "metadata": {
    "papermill": {
     "duration": 0.021071,
     "end_time": "2022-03-29T00:43:22.964116",
     "exception": false,
     "start_time": "2022-03-29T00:43:22.943045",
     "status": "completed"
    },
    "tags": []
   },
   "source": [
    "The questions below will give you feedback on your work. Run the following cell to set up the feedback system."
   ]
  },
  {
   "cell_type": "code",
   "execution_count": 2,
   "id": "0f2fe989",
   "metadata": {
    "execution": {
     "iopub.execute_input": "2022-03-29T00:43:23.010098Z",
     "iopub.status.busy": "2022-03-29T00:43:23.009412Z",
     "iopub.status.idle": "2022-03-29T00:43:23.077877Z",
     "shell.execute_reply": "2022-03-29T00:43:23.078416Z",
     "shell.execute_reply.started": "2022-03-29T00:08:08.891967Z"
    },
    "papermill": {
     "duration": 0.093194,
     "end_time": "2022-03-29T00:43:23.078586",
     "exception": false,
     "start_time": "2022-03-29T00:43:22.985392",
     "status": "completed"
    },
    "tags": []
   },
   "outputs": [
    {
     "name": "stdout",
     "output_type": "stream",
     "text": [
      "Setup Complete\n"
     ]
    }
   ],
   "source": [
    "# Set up code checking\n",
    "import os\n",
    "if not os.path.exists(\"../input/museum_visitors.csv\"):\n",
    "    os.symlink(\"../input/data-for-datavis/museum_visitors.csv\", \"../input/museum_visitors.csv\") \n",
    "from learntools.core import binder\n",
    "binder.bind(globals())\n",
    "from learntools.data_viz_to_coder.ex2 import *\n",
    "print(\"Setup Complete\")"
   ]
  },
  {
   "cell_type": "markdown",
   "id": "82ad70cd",
   "metadata": {
    "papermill": {
     "duration": 0.021769,
     "end_time": "2022-03-29T00:43:23.123247",
     "exception": false,
     "start_time": "2022-03-29T00:43:23.101478",
     "status": "completed"
    },
    "tags": []
   },
   "source": [
    "## Step 1: Load the data\n",
    "\n",
    "Your first assignment is to read the LA Museum Visitors data file into `museum_data`.  Note that:\n",
    "- The filepath to the dataset is stored as `museum_filepath`.  Please **do not** change the provided value of the filepath.\n",
    "- The name of the column to use as row labels is `\"Date\"`.  (This can be seen in cell A1 when the file is opened in Excel.)\n",
    "\n",
    "To help with this, you may find it useful to revisit some relevant code from the tutorial, which we have pasted below:\n",
    "\n",
    "```python\n",
    "# Path of the file to read\n",
    "spotify_filepath = \"../input/spotify.csv\"\n",
    "\n",
    "# Read the file into a variable spotify_data\n",
    "spotify_data = pd.read_csv(spotify_filepath, index_col=\"Date\", parse_dates=True)\n",
    "```\n",
    "\n",
    "The code you need to write now looks very similar!"
   ]
  },
  {
   "cell_type": "code",
   "execution_count": 3,
   "id": "186e3c2f",
   "metadata": {
    "execution": {
     "iopub.execute_input": "2022-03-29T00:43:23.170861Z",
     "iopub.status.busy": "2022-03-29T00:43:23.170175Z",
     "iopub.status.idle": "2022-03-29T00:43:23.184230Z",
     "shell.execute_reply": "2022-03-29T00:43:23.184722Z",
     "shell.execute_reply.started": "2022-03-29T00:09:47.115519Z"
    },
    "papermill": {
     "duration": 0.039671,
     "end_time": "2022-03-29T00:43:23.184903",
     "exception": false,
     "start_time": "2022-03-29T00:43:23.145232",
     "status": "completed"
    },
    "tags": []
   },
   "outputs": [
    {
     "data": {
      "application/javascript": [
       "parent.postMessage({\"jupyterEvent\": \"custom.exercise_interaction\", \"data\": {\"outcomeType\": 1, \"valueTowardsCompletion\": 0.3333333333333333, \"interactionType\": 1, \"questionType\": 1, \"questionId\": \"1_LoadMuseumData\", \"learnToolsVersion\": \"0.3.4\", \"failureMessage\": \"\", \"exceptionClass\": \"\", \"trace\": \"\"}}, \"*\")"
      ],
      "text/plain": [
       "<IPython.core.display.Javascript object>"
      ]
     },
     "metadata": {},
     "output_type": "display_data"
    },
    {
     "data": {
      "text/markdown": [
       "<span style=\"color:#33cc33\">Correct</span>"
      ],
      "text/plain": [
       "Correct"
      ]
     },
     "metadata": {},
     "output_type": "display_data"
    }
   ],
   "source": [
    "# Path of the file to read\n",
    "museum_filepath = \"../input/museum_visitors.csv\"\n",
    "\n",
    "# Fill in the line below to read the file into a variable museum_data\n",
    "museum_data = pd.read_csv(museum_filepath, index_col = \"Date\", parse_dates = True)\n",
    "\n",
    "# Run the line below with no changes to check that you've loaded the data correctly\n",
    "step_1.check()"
   ]
  },
  {
   "cell_type": "code",
   "execution_count": 4,
   "id": "44edcc50",
   "metadata": {
    "execution": {
     "iopub.execute_input": "2022-03-29T00:43:23.234913Z",
     "iopub.status.busy": "2022-03-29T00:43:23.234247Z",
     "iopub.status.idle": "2022-03-29T00:43:23.237150Z",
     "shell.execute_reply": "2022-03-29T00:43:23.237759Z"
    },
    "papermill": {
     "duration": 0.029195,
     "end_time": "2022-03-29T00:43:23.237948",
     "exception": false,
     "start_time": "2022-03-29T00:43:23.208753",
     "status": "completed"
    },
    "tags": []
   },
   "outputs": [],
   "source": [
    "# Uncomment the line below to receive a hint\n",
    "#step_1.hint()\n",
    "# Uncomment the line below to see the solution\n",
    "#step_1.solution()"
   ]
  },
  {
   "cell_type": "markdown",
   "id": "67c6f690",
   "metadata": {
    "papermill": {
     "duration": 0.023009,
     "end_time": "2022-03-29T00:43:23.284088",
     "exception": false,
     "start_time": "2022-03-29T00:43:23.261079",
     "status": "completed"
    },
    "tags": []
   },
   "source": [
    "## Step 2: Review the data\n",
    "\n",
    "Use a Python command to print the last 5 rows of the data."
   ]
  },
  {
   "cell_type": "code",
   "execution_count": 5,
   "id": "23e9c6b1",
   "metadata": {
    "execution": {
     "iopub.execute_input": "2022-03-29T00:43:23.333500Z",
     "iopub.status.busy": "2022-03-29T00:43:23.332882Z",
     "iopub.status.idle": "2022-03-29T00:43:23.349400Z",
     "shell.execute_reply": "2022-03-29T00:43:23.350038Z",
     "shell.execute_reply.started": "2022-03-29T00:11:03.854120Z"
    },
    "papermill": {
     "duration": 0.043071,
     "end_time": "2022-03-29T00:43:23.350224",
     "exception": false,
     "start_time": "2022-03-29T00:43:23.307153",
     "status": "completed"
    },
    "tags": []
   },
   "outputs": [
    {
     "data": {
      "text/html": [
       "<div>\n",
       "<style scoped>\n",
       "    .dataframe tbody tr th:only-of-type {\n",
       "        vertical-align: middle;\n",
       "    }\n",
       "\n",
       "    .dataframe tbody tr th {\n",
       "        vertical-align: top;\n",
       "    }\n",
       "\n",
       "    .dataframe thead th {\n",
       "        text-align: right;\n",
       "    }\n",
       "</style>\n",
       "<table border=\"1\" class=\"dataframe\">\n",
       "  <thead>\n",
       "    <tr style=\"text-align: right;\">\n",
       "      <th></th>\n",
       "      <th>Avila Adobe</th>\n",
       "      <th>Firehouse Museum</th>\n",
       "      <th>Chinese American Museum</th>\n",
       "      <th>America Tropical Interpretive Center</th>\n",
       "    </tr>\n",
       "    <tr>\n",
       "      <th>Date</th>\n",
       "      <th></th>\n",
       "      <th></th>\n",
       "      <th></th>\n",
       "      <th></th>\n",
       "    </tr>\n",
       "  </thead>\n",
       "  <tbody>\n",
       "    <tr>\n",
       "      <th>2018-07-01</th>\n",
       "      <td>23136</td>\n",
       "      <td>4191</td>\n",
       "      <td>2620</td>\n",
       "      <td>4718</td>\n",
       "    </tr>\n",
       "    <tr>\n",
       "      <th>2018-08-01</th>\n",
       "      <td>20815</td>\n",
       "      <td>4866</td>\n",
       "      <td>2409</td>\n",
       "      <td>3891</td>\n",
       "    </tr>\n",
       "    <tr>\n",
       "      <th>2018-09-01</th>\n",
       "      <td>21020</td>\n",
       "      <td>4956</td>\n",
       "      <td>2146</td>\n",
       "      <td>3180</td>\n",
       "    </tr>\n",
       "    <tr>\n",
       "      <th>2018-10-01</th>\n",
       "      <td>19280</td>\n",
       "      <td>4622</td>\n",
       "      <td>2364</td>\n",
       "      <td>3775</td>\n",
       "    </tr>\n",
       "    <tr>\n",
       "      <th>2018-11-01</th>\n",
       "      <td>17163</td>\n",
       "      <td>4082</td>\n",
       "      <td>2385</td>\n",
       "      <td>4562</td>\n",
       "    </tr>\n",
       "  </tbody>\n",
       "</table>\n",
       "</div>"
      ],
      "text/plain": [
       "            Avila Adobe  Firehouse Museum  Chinese American Museum  \\\n",
       "Date                                                                 \n",
       "2018-07-01        23136              4191                     2620   \n",
       "2018-08-01        20815              4866                     2409   \n",
       "2018-09-01        21020              4956                     2146   \n",
       "2018-10-01        19280              4622                     2364   \n",
       "2018-11-01        17163              4082                     2385   \n",
       "\n",
       "            America Tropical Interpretive Center  \n",
       "Date                                              \n",
       "2018-07-01                                  4718  \n",
       "2018-08-01                                  3891  \n",
       "2018-09-01                                  3180  \n",
       "2018-10-01                                  3775  \n",
       "2018-11-01                                  4562  "
      ]
     },
     "execution_count": 5,
     "metadata": {},
     "output_type": "execute_result"
    }
   ],
   "source": [
    "# Print the last five rows of the data \n",
    "museum_data.tail() # Your code here"
   ]
  },
  {
   "cell_type": "markdown",
   "id": "b2fa515f",
   "metadata": {
    "papermill": {
     "duration": 0.025462,
     "end_time": "2022-03-29T00:43:23.399915",
     "exception": false,
     "start_time": "2022-03-29T00:43:23.374453",
     "status": "completed"
    },
    "tags": []
   },
   "source": [
    "The last row (for `2018-11-01`) tracks the number of visitors to each museum in November 2018, the next-to-last row (for `2018-10-01`) tracks the number of visitors to each museum in October 2018, _and so on_.\n",
    "\n",
    "Use the last 5 rows of the data to answer the questions below."
   ]
  },
  {
   "cell_type": "code",
   "execution_count": 6,
   "id": "ed804226",
   "metadata": {
    "execution": {
     "iopub.execute_input": "2022-03-29T00:43:23.450824Z",
     "iopub.status.busy": "2022-03-29T00:43:23.450163Z",
     "iopub.status.idle": "2022-03-29T00:43:23.479803Z",
     "shell.execute_reply": "2022-03-29T00:43:23.480302Z",
     "shell.execute_reply.started": "2022-03-29T00:26:58.726818Z"
    },
    "papermill": {
     "duration": 0.056807,
     "end_time": "2022-03-29T00:43:23.480488",
     "exception": false,
     "start_time": "2022-03-29T00:43:23.423681",
     "status": "completed"
    },
    "tags": []
   },
   "outputs": [
    {
     "data": {
      "application/javascript": [
       "parent.postMessage({\"jupyterEvent\": \"custom.exercise_interaction\", \"data\": {\"outcomeType\": 1, \"valueTowardsCompletion\": 0.3333333333333333, \"interactionType\": 1, \"questionType\": 1, \"questionId\": \"2_ReviewData\", \"learnToolsVersion\": \"0.3.4\", \"failureMessage\": \"\", \"exceptionClass\": \"\", \"trace\": \"\"}}, \"*\")"
      ],
      "text/plain": [
       "<IPython.core.display.Javascript object>"
      ]
     },
     "metadata": {},
     "output_type": "display_data"
    },
    {
     "data": {
      "text/markdown": [
       "<span style=\"color:#33cc33\">Correct</span>"
      ],
      "text/plain": [
       "Correct"
      ]
     },
     "metadata": {},
     "output_type": "display_data"
    }
   ],
   "source": [
    "# Fill in the line below: How many visitors did the Chinese American Museum \n",
    "# receive in July 2018?\n",
    "july_2018_df = museum_data.loc['2018-07-01': '2018-07-31', ['Chinese American Museum']]\n",
    "july_2018_df\n",
    "ca_museum_jul18 = july_2018_df['Chinese American Museum'].sum()\n",
    "\n",
    "# Fill in the line below: In October 2018, how many more visitors did Avila \n",
    "# Adobe receive than the Firehouse Museum?\n",
    "avila_df = museum_data.loc['2018-10-01' : '2018-10-30', ['Avila Adobe']]\n",
    "firehouse_df = museum_data.loc['2018-10-01' : '2018-10-30', ['Firehouse Museum']]\n",
    "avila_oct18 = avila_df['Avila Adobe'].sum() - firehouse_df['Firehouse Museum'].sum()\n",
    "avila_oct18\n",
    "# Check your answers\n",
    "step_2.check()"
   ]
  },
  {
   "cell_type": "code",
   "execution_count": 7,
   "id": "2c983533",
   "metadata": {
    "execution": {
     "iopub.execute_input": "2022-03-29T00:43:23.535491Z",
     "iopub.status.busy": "2022-03-29T00:43:23.534532Z",
     "iopub.status.idle": "2022-03-29T00:43:23.539009Z",
     "shell.execute_reply": "2022-03-29T00:43:23.539644Z",
     "shell.execute_reply.started": "2022-03-29T00:27:02.526870Z"
    },
    "papermill": {
     "duration": 0.033868,
     "end_time": "2022-03-29T00:43:23.539839",
     "exception": false,
     "start_time": "2022-03-29T00:43:23.505971",
     "status": "completed"
    },
    "tags": []
   },
   "outputs": [],
   "source": [
    "# Lines below will give you a hint or solution code\n",
    "#step_2.hint()\n",
    "# step_2.solution()"
   ]
  },
  {
   "cell_type": "markdown",
   "id": "29d17582",
   "metadata": {
    "papermill": {
     "duration": 0.024538,
     "end_time": "2022-03-29T00:43:23.589395",
     "exception": false,
     "start_time": "2022-03-29T00:43:23.564857",
     "status": "completed"
    },
    "tags": []
   },
   "source": [
    "## Step 3: Convince the museum board \n",
    "\n",
    "The Firehouse Museum claims they ran an event in 2014 that brought an incredible number of visitors, and that they should get extra budget to run a similar event again.  The other museums think these types of events aren't that important, and budgets should be split purely based on recent visitors on an average day.  \n",
    "\n",
    "To show the museum board how the event compared to regular traffic at each museum, create a line chart that shows how the number of visitors to each museum evolved over time.  Your figure should have four lines (one for each museum).\n",
    "\n",
    "> **(Optional) Note**: If you have some prior experience with plotting figures in Python, you might be familiar with the `plt.show()` command.  If you decide to use this command, please place it **after** the line of code that checks your answer (in this case, place it after `step_3.check()` below) -- otherwise, the checking code will return an error!"
   ]
  },
  {
   "cell_type": "code",
   "execution_count": 8,
   "id": "a275963c",
   "metadata": {
    "execution": {
     "iopub.execute_input": "2022-03-29T00:43:23.643334Z",
     "iopub.status.busy": "2022-03-29T00:43:23.642320Z",
     "iopub.status.idle": "2022-03-29T00:43:24.122031Z",
     "shell.execute_reply": "2022-03-29T00:43:24.122540Z",
     "shell.execute_reply.started": "2022-03-29T00:34:24.342519Z"
    },
    "papermill": {
     "duration": 0.50854,
     "end_time": "2022-03-29T00:43:24.122738",
     "exception": false,
     "start_time": "2022-03-29T00:43:23.614198",
     "status": "completed"
    },
    "tags": []
   },
   "outputs": [
    {
     "data": {
      "application/javascript": [
       "parent.postMessage({\"jupyterEvent\": \"custom.exercise_interaction\", \"data\": {\"outcomeType\": 1, \"valueTowardsCompletion\": 0.3333333333333333, \"interactionType\": 1, \"questionType\": 2, \"questionId\": \"3_PlotAll\", \"learnToolsVersion\": \"0.3.4\", \"failureMessage\": \"\", \"exceptionClass\": \"\", \"trace\": \"\"}}, \"*\")"
      ],
      "text/plain": [
       "<IPython.core.display.Javascript object>"
      ]
     },
     "metadata": {},
     "output_type": "display_data"
    },
    {
     "data": {
      "text/markdown": [
       "<span style=\"color:#33cc33\">Correct</span>"
      ],
      "text/plain": [
       "Correct"
      ]
     },
     "metadata": {},
     "output_type": "display_data"
    },
    {
     "data": {
      "image/png": "[encoded data removed]",
      "text/plain": [
       "<Figure size 1008x504 with 1 Axes>"
      ]
     },
     "metadata": {
      "needs_background": "light"
     },
     "output_type": "display_data"
    }
   ],
   "source": [
    "# Line chart showing the number of visitors to each museum over time\n",
    "plt.figure(figsize = (14, 7))\n",
    "sns.lineplot(data = museum_data)\n",
    "plt.title(\"The number of visitors to each museum\")\n",
    "plt.xlabel(\"Year\")\n",
    "plt.ylabel(\"Number of visitors\")\n",
    "plt.legend()\n",
    "# Check your answer\n",
    "step_3.check()"
   ]
  },
  {
   "cell_type": "code",
   "execution_count": 9,
   "id": "eecddd40",
   "metadata": {
    "execution": {
     "iopub.execute_input": "2022-03-29T00:43:24.184783Z",
     "iopub.status.busy": "2022-03-29T00:43:24.183892Z",
     "iopub.status.idle": "2022-03-29T00:43:24.186875Z",
     "shell.execute_reply": "2022-03-29T00:43:24.187337Z",
     "shell.execute_reply.started": "2022-03-29T00:34:48.437999Z"
    },
    "papermill": {
     "duration": 0.035729,
     "end_time": "2022-03-29T00:43:24.187515",
     "exception": false,
     "start_time": "2022-03-29T00:43:24.151786",
     "status": "completed"
    },
    "tags": []
   },
   "outputs": [],
   "source": [
    "# Lines below will give you a hint or solution code\n",
    "#step_3.hint()\n",
    "#step_3.solution_plot()"
   ]
  },
  {
   "cell_type": "markdown",
   "id": "36a9feca",
   "metadata": {
    "papermill": {
     "duration": 0.028862,
     "end_time": "2022-03-29T00:43:24.245362",
     "exception": false,
     "start_time": "2022-03-29T00:43:24.216500",
     "status": "completed"
    },
    "tags": []
   },
   "source": [
    "## Step 4: Assess seasonality\n",
    "\n",
    "When meeting with the employees at Avila Adobe, you hear that one major pain point is that the number of museum visitors varies greatly with the seasons, with low seasons (when the employees are perfectly staffed and happy) and also high seasons (when the employees are understaffed and stressed).  You realize that if you can predict these high and low seasons, you can plan ahead to hire some additional seasonal employees to help out with the extra work.\n",
    "\n",
    "#### Part A\n",
    "Create a line chart that shows how the number of visitors to Avila Adobe has evolved over time.  (_If your code returns an error, the first thing that you should check is that you've spelled the name of the column correctly!  You must write the name of the column exactly as it appears in the dataset._)"
   ]
  },
  {
   "cell_type": "code",
   "execution_count": 10,
   "id": "483998f1",
   "metadata": {
    "execution": {
     "iopub.execute_input": "2022-03-29T00:43:24.306957Z",
     "iopub.status.busy": "2022-03-29T00:43:24.306205Z",
     "iopub.status.idle": "2022-03-29T00:43:24.611993Z",
     "shell.execute_reply": "2022-03-29T00:43:24.611458Z",
     "shell.execute_reply.started": "2022-03-29T00:38:26.443937Z"
    },
    "papermill": {
     "duration": 0.337934,
     "end_time": "2022-03-29T00:43:24.612154",
     "exception": false,
     "start_time": "2022-03-29T00:43:24.274220",
     "status": "completed"
    },
    "tags": []
   },
   "outputs": [
    {
     "name": "stdout",
     "output_type": "stream",
     "text": [
      "Thank you for creating a line chart!  To see how your code compares to the official solution, please use the code cell below.\n"
     ]
    },
    {
     "data": {
      "application/javascript": [
       "parent.postMessage({\"jupyterEvent\": \"custom.exercise_interaction\", \"data\": {\"outcomeType\": 1, \"valueTowardsCompletion\": 0.3333333333333333, \"interactionType\": 1, \"questionType\": 2, \"questionId\": \"4.1_PlotAvila\", \"learnToolsVersion\": \"0.3.4\", \"failureMessage\": \"\", \"exceptionClass\": \"\", \"trace\": \"\"}}, \"*\")"
      ],
      "text/plain": [
       "<IPython.core.display.Javascript object>"
      ]
     },
     "metadata": {},
     "output_type": "display_data"
    },
    {
     "data": {
      "text/markdown": [
       "<span style=\"color:#33cc33\">Correct</span>"
      ],
      "text/plain": [
       "Correct"
      ]
     },
     "metadata": {},
     "output_type": "display_data"
    },
    {
     "data": {
      "image/png": "[encoded data removed]",
      "text/plain": [
       "<Figure size 864x432 with 1 Axes>"
      ]
     },
     "metadata": {
      "needs_background": "light"
     },
     "output_type": "display_data"
    }
   ],
   "source": [
    "# Line plot showing the number of visitors to Avila Adobe over time\n",
    "plt.figure(figsize = (12, 6))\n",
    "plt.title(\"Number of visitors to Avila Adobe\")\n",
    "sns.lineplot(data = museum_data['Avila Adobe'])\n",
    "plt.xlabel('Year')\n",
    "plt.ylabel('Number of visitors')\n",
    "plt.legend()\n",
    "# Check your answer\n",
    "step_4.a.check()"
   ]
  },
  {
   "cell_type": "code",
   "execution_count": 11,
   "id": "04501122",
   "metadata": {
    "execution": {
     "iopub.execute_input": "2022-03-29T00:43:24.682448Z",
     "iopub.status.busy": "2022-03-29T00:43:24.681804Z",
     "iopub.status.idle": "2022-03-29T00:43:24.684180Z",
     "shell.execute_reply": "2022-03-29T00:43:24.684637Z"
    },
    "papermill": {
     "duration": 0.039505,
     "end_time": "2022-03-29T00:43:24.684841",
     "exception": false,
     "start_time": "2022-03-29T00:43:24.645336",
     "status": "completed"
    },
    "tags": []
   },
   "outputs": [],
   "source": [
    "# Lines below will give you a hint or solution code\n",
    "#step_4.a.hint()\n",
    "#step_4.a.solution_plot()"
   ]
  },
  {
   "cell_type": "markdown",
   "id": "53f5b64c",
   "metadata": {
    "papermill": {
     "duration": 0.032428,
     "end_time": "2022-03-29T00:43:24.749767",
     "exception": false,
     "start_time": "2022-03-29T00:43:24.717339",
     "status": "completed"
    },
    "tags": []
   },
   "source": [
    "#### Part B\n",
    "\n",
    "Does Avila Adobe get more visitors:\n",
    "- in September-February (in LA, the fall and winter months), or \n",
    "- in March-August (in LA, the spring and summer)?  \n",
    "\n",
    "Using this information, when should the museum staff additional seasonal employees?"
   ]
  },
  {
   "cell_type": "markdown",
   "id": "06ab8b9d",
   "metadata": {
    "papermill": {
     "duration": 0.031912,
     "end_time": "2022-03-29T00:43:24.814155",
     "exception": false,
     "start_time": "2022-03-29T00:43:24.782243",
     "status": "completed"
    },
    "tags": []
   },
   "source": [
    "##### From September - February, the number of visitors is decreasing.\n",
    "##### From March - August, the number of visitors is increasing. The museum staff should hire employees in these months."
   ]
  },
  {
   "cell_type": "code",
   "execution_count": 12,
   "id": "815d31e7",
   "metadata": {
    "execution": {
     "iopub.execute_input": "2022-03-29T00:43:24.882254Z",
     "iopub.status.busy": "2022-03-29T00:43:24.881576Z",
     "iopub.status.idle": "2022-03-29T00:43:24.884853Z",
     "shell.execute_reply": "2022-03-29T00:43:24.885372Z",
     "shell.execute_reply.started": "2022-03-29T00:41:36.763009Z"
    },
    "papermill": {
     "duration": 0.039037,
     "end_time": "2022-03-29T00:43:24.885538",
     "exception": false,
     "start_time": "2022-03-29T00:43:24.846501",
     "status": "completed"
    },
    "tags": []
   },
   "outputs": [],
   "source": [
    "# step_4.b.hint()"
   ]
  },
  {
   "cell_type": "code",
   "execution_count": 13,
   "id": "07cb3a20",
   "metadata": {
    "execution": {
     "iopub.execute_input": "2022-03-29T00:43:24.958155Z",
     "iopub.status.busy": "2022-03-29T00:43:24.957474Z",
     "iopub.status.idle": "2022-03-29T00:43:24.961214Z",
     "shell.execute_reply": "2022-03-29T00:43:24.961712Z",
     "shell.execute_reply.started": "2022-03-29T00:41:38.423626Z"
    },
    "papermill": {
     "duration": 0.042943,
     "end_time": "2022-03-29T00:43:24.961887",
     "exception": false,
     "start_time": "2022-03-29T00:43:24.918944",
     "status": "completed"
    },
    "tags": []
   },
   "outputs": [
    {
     "data": {
      "application/javascript": [
       "parent.postMessage({\"jupyterEvent\": \"custom.exercise_interaction\", \"data\": {\"interactionType\": 3, \"questionType\": 4, \"questionId\": \"4.2_ThinkAvila\", \"learnToolsVersion\": \"0.3.4\", \"valueTowardsCompletion\": 0.0, \"failureMessage\": \"\", \"exceptionClass\": \"\", \"trace\": \"\", \"outcomeType\": 4}}, \"*\")"
      ],
      "text/plain": [
       "<IPython.core.display.Javascript object>"
      ]
     },
     "metadata": {},
     "output_type": "display_data"
    },
    {
     "data": {
      "text/markdown": [
       "<span style=\"color:#33cc99\">Solution:</span> The line chart generally dips to relatively low values around the early part of each year (in December and January), and reaches its highest values in the middle of the year (especially around May and June).  Thus, Avila Adobe usually gets more visitors in March-August (or the spring and summer months).  With this in mind, Avila Adobe could definitely benefit from hiring more seasonal employees to help with the extra work in March-August (the spring and summer)!"
      ],
      "text/plain": [
       "Solution: The line chart generally dips to relatively low values around the early part of each year (in December and January), and reaches its highest values in the middle of the year (especially around May and June).  Thus, Avila Adobe usually gets more visitors in March-August (or the spring and summer months).  With this in mind, Avila Adobe could definitely benefit from hiring more seasonal employees to help with the extra work in March-August (the spring and summer)!"
      ]
     },
     "metadata": {},
     "output_type": "display_data"
    }
   ],
   "source": [
    "# Check your answer (Run this code cell to receive credit!)\n",
    "step_4.b.solution()"
   ]
  },
  {
   "cell_type": "markdown",
   "id": "39f5756a",
   "metadata": {
    "papermill": {
     "duration": 0.033812,
     "end_time": "2022-03-29T00:43:25.029823",
     "exception": false,
     "start_time": "2022-03-29T00:43:24.996011",
     "status": "completed"
    },
    "tags": []
   },
   "source": [
    "# Keep going\n",
    "\n",
    "Move on to learn about **[bar charts and heatmaps](https://www.kaggle.com/alexisbcook/bar-charts-and-heatmaps)** with a new dataset!"
   ]
  },
  {
   "cell_type": "markdown",
   "id": "10516fea",
   "metadata": {
    "papermill": {
     "duration": 0.034098,
     "end_time": "2022-03-29T00:43:25.097659",
     "exception": false,
     "start_time": "2022-03-29T00:43:25.063561",
     "status": "completed"
    },
    "tags": []
   },
   "source": [
    "---\n",
    "\n",
    "\n",
    "\n",
    "\n",
    "*Have questions or comments? Visit the [course discussion forum](https://www.kaggle.com/learn/data-visualization/discussion) to chat with other learners.*"
   ]
  }
 ],
 "metadata": {
  "kernelspec": {
   "display_name": "Python 3",
   "language": "python",
   "name": "python3"
  },
  "language_info": {
   "codemirror_mode": {
    "name": "ipython",
    "version": 3
   },
   "file_extension": ".py",
   "mimetype": "text/x-python",
   "name": "python",
   "nbconvert_exporter": "python",
   "pygments_lexer": "ipython3",
   "version": "3.7.12"
  },
  "papermill": {
   "default_parameters": {},
   "duration": 14.908757,
   "end_time": "2022-03-29T00:43:25.851156",
   "environment_variables": {},
   "exception": null,
   "input_path": "__notebook__.ipynb",
   "output_path": "__notebook__.ipynb",
   "parameters": {},
   "start_time": "2022-03-29T00:43:10.942399",
   "version": "2.3.3"
  }
 },
 "nbformat": 4,
 "nbformat_minor": 5
}
