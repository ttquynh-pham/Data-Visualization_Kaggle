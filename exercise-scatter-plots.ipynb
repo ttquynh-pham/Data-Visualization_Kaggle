{
 "cells": [
  {
   "cell_type": "markdown",
   "id": "7825ccce",
   "metadata": {
    "papermill": {
     "duration": 0.02543,
     "end_time": "2022-03-29T04:44:16.207213",
     "exception": false,
     "start_time": "2022-03-29T04:44:16.181783",
     "status": "completed"
    },
    "tags": []
   },
   "source": [
    "**This notebook is an exercise in the [Data Visualization](https://www.kaggle.com/learn/data-visualization) course.  You can reference the tutorial at [this link](https://www.kaggle.com/alexisbcook/scatter-plots).**\n",
    "\n",
    "---\n"
   ]
  },
  {
   "cell_type": "markdown",
   "id": "45d12c3f",
   "metadata": {
    "papermill": {
     "duration": 0.024028,
     "end_time": "2022-03-29T04:44:16.257735",
     "exception": false,
     "start_time": "2022-03-29T04:44:16.233707",
     "status": "completed"
    },
    "tags": []
   },
   "source": [
    "In this exercise, you will use your new knowledge to propose a solution to a real-world scenario.  To succeed, you will need to import data into Python, answer questions using the data, and generate **scatter plots** to understand patterns in the data.\n",
    "\n",
    "## Scenario\n",
    "\n",
    "You work for a major candy producer, and your goal is to write a report that your company can use to guide the design of its next product.  Soon after starting your research, you stumble across this [very interesting dataset](https://fivethirtyeight.com/features/the-ultimate-halloween-candy-power-ranking/) containing results from a fun survey to crowdsource favorite candies.\n",
    "\n",
    "## Setup\n",
    "\n",
    "Run the next cell to import and configure the Python libraries that you need to complete the exercise."
   ]
  },
  {
   "cell_type": "code",
   "execution_count": 1,
   "id": "44dd8ec2",
   "metadata": {
    "execution": {
     "iopub.execute_input": "2022-03-29T04:44:16.314927Z",
     "iopub.status.busy": "2022-03-29T04:44:16.314314Z",
     "iopub.status.idle": "2022-03-29T04:44:17.347050Z",
     "shell.execute_reply": "2022-03-29T04:44:17.346302Z",
     "shell.execute_reply.started": "2022-03-29T04:13:37.007566Z"
    },
    "papermill": {
     "duration": 1.065443,
     "end_time": "2022-03-29T04:44:17.347213",
     "exception": false,
     "start_time": "2022-03-29T04:44:16.281770",
     "status": "completed"
    },
    "tags": []
   },
   "outputs": [
    {
     "name": "stdout",
     "output_type": "stream",
     "text": [
      "Setup Complete\n"
     ]
    }
   ],
   "source": [
    "import pandas as pd\n",
    "pd.plotting.register_matplotlib_converters()\n",
    "import matplotlib.pyplot as plt\n",
    "%matplotlib inline\n",
    "import seaborn as sns\n",
    "print(\"Setup Complete\")"
   ]
  },
  {
   "cell_type": "markdown",
   "id": "fde22237",
   "metadata": {
    "papermill": {
     "duration": 0.023967,
     "end_time": "2022-03-29T04:44:17.396275",
     "exception": false,
     "start_time": "2022-03-29T04:44:17.372308",
     "status": "completed"
    },
    "tags": []
   },
   "source": [
    "The questions below will give you feedback on your work. Run the following cell to set up our feedback system."
   ]
  },
  {
   "cell_type": "code",
   "execution_count": 2,
   "id": "0091362b",
   "metadata": {
    "execution": {
     "iopub.execute_input": "2022-03-29T04:44:17.450840Z",
     "iopub.status.busy": "2022-03-29T04:44:17.450269Z",
     "iopub.status.idle": "2022-03-29T04:44:17.510110Z",
     "shell.execute_reply": "2022-03-29T04:44:17.510651Z",
     "shell.execute_reply.started": "2022-03-29T04:33:58.511375Z"
    },
    "papermill": {
     "duration": 0.089044,
     "end_time": "2022-03-29T04:44:17.510810",
     "exception": false,
     "start_time": "2022-03-29T04:44:17.421766",
     "status": "completed"
    },
    "tags": []
   },
   "outputs": [
    {
     "name": "stdout",
     "output_type": "stream",
     "text": [
      "Setup Complete\n"
     ]
    }
   ],
   "source": [
    "# Set up code checking\n",
    "import os\n",
    "if not os.path.exists(\"../input/candy.csv\"):\n",
    "    os.symlink(\"../input/data-for-datavis/candy.csv\", \"../input/candy.csv\") \n",
    "from learntools.core import binder\n",
    "binder.bind(globals())\n",
    "from learntools.data_viz_to_coder.ex4 import *\n",
    "print(\"Setup Complete\")"
   ]
  },
  {
   "cell_type": "markdown",
   "id": "543179c3",
   "metadata": {
    "papermill": {
     "duration": 0.026208,
     "end_time": "2022-03-29T04:44:17.561860",
     "exception": false,
     "start_time": "2022-03-29T04:44:17.535652",
     "status": "completed"
    },
    "tags": []
   },
   "source": [
    "## Step 1: Load the Data\n",
    "\n",
    "Read the candy data file into `candy_data`.  Use the `\"id\"` column to label the rows."
   ]
  },
  {
   "cell_type": "code",
   "execution_count": 3,
   "id": "0fb62321",
   "metadata": {
    "execution": {
     "iopub.execute_input": "2022-03-29T04:44:17.626623Z",
     "iopub.status.busy": "2022-03-29T04:44:17.625962Z",
     "iopub.status.idle": "2022-03-29T04:44:17.640396Z",
     "shell.execute_reply": "2022-03-29T04:44:17.640815Z",
     "shell.execute_reply.started": "2022-03-29T04:34:00.847309Z"
    },
    "papermill": {
     "duration": 0.049457,
     "end_time": "2022-03-29T04:44:17.640967",
     "exception": false,
     "start_time": "2022-03-29T04:44:17.591510",
     "status": "completed"
    },
    "tags": []
   },
   "outputs": [
    {
     "data": {
      "application/javascript": [
       "parent.postMessage({\"jupyterEvent\": \"custom.exercise_interaction\", \"data\": {\"outcomeType\": 1, \"valueTowardsCompletion\": 0.3333333333333333, \"interactionType\": 1, \"questionType\": 1, \"questionId\": \"1_LoadData\", \"learnToolsVersion\": \"0.3.4\", \"failureMessage\": \"\", \"exceptionClass\": \"\", \"trace\": \"\"}}, \"*\")"
      ],
      "text/plain": [
       "<IPython.core.display.Javascript object>"
      ]
     },
     "metadata": {},
     "output_type": "display_data"
    },
    {
     "data": {
      "text/markdown": [
       "<span style=\"color:#33cc33\">Correct</span>"
      ],
      "text/plain": [
       "Correct"
      ]
     },
     "metadata": {},
     "output_type": "display_data"
    }
   ],
   "source": [
    "# Path of the file to read\n",
    "candy_filepath = \"../input/candy.csv\"\n",
    "\n",
    "# Fill in the line below to read the file into a variable candy_data\n",
    "candy_data = pd.read_csv(candy_filepath, index_col = 'id')\n",
    "\n",
    "# Run the line below with no changes to check that you've loaded the data correctly\n",
    "step_1.check()"
   ]
  },
  {
   "cell_type": "code",
   "execution_count": 4,
   "id": "bc469278",
   "metadata": {
    "execution": {
     "iopub.execute_input": "2022-03-29T04:44:17.700031Z",
     "iopub.status.busy": "2022-03-29T04:44:17.699126Z",
     "iopub.status.idle": "2022-03-29T04:44:17.701162Z",
     "shell.execute_reply": "2022-03-29T04:44:17.701576Z"
    },
    "papermill": {
     "duration": 0.031998,
     "end_time": "2022-03-29T04:44:17.701724",
     "exception": false,
     "start_time": "2022-03-29T04:44:17.669726",
     "status": "completed"
    },
    "tags": []
   },
   "outputs": [],
   "source": [
    "# Lines below will give you a hint or solution code\n",
    "#step_1.hint()\n",
    "#step_1.solution()"
   ]
  },
  {
   "cell_type": "markdown",
   "id": "54ea8686",
   "metadata": {
    "papermill": {
     "duration": 0.025362,
     "end_time": "2022-03-29T04:44:17.752841",
     "exception": false,
     "start_time": "2022-03-29T04:44:17.727479",
     "status": "completed"
    },
    "tags": []
   },
   "source": [
    "## Step 2: Review the data\n",
    "\n",
    "Use a Python command to print the first five rows of the data."
   ]
  },
  {
   "cell_type": "code",
   "execution_count": 5,
   "id": "7da55490",
   "metadata": {
    "execution": {
     "iopub.execute_input": "2022-03-29T04:44:17.809802Z",
     "iopub.status.busy": "2022-03-29T04:44:17.809230Z",
     "iopub.status.idle": "2022-03-29T04:44:17.825905Z",
     "shell.execute_reply": "2022-03-29T04:44:17.826358Z",
     "shell.execute_reply.started": "2022-03-29T04:34:05.801325Z"
    },
    "papermill": {
     "duration": 0.047395,
     "end_time": "2022-03-29T04:44:17.826512",
     "exception": false,
     "start_time": "2022-03-29T04:44:17.779117",
     "status": "completed"
    },
    "tags": []
   },
   "outputs": [
    {
     "data": {
      "text/html": [
       "<div>\n",
       "<style scoped>\n",
       "    .dataframe tbody tr th:only-of-type {\n",
       "        vertical-align: middle;\n",
       "    }\n",
       "\n",
       "    .dataframe tbody tr th {\n",
       "        vertical-align: top;\n",
       "    }\n",
       "\n",
       "    .dataframe thead th {\n",
       "        text-align: right;\n",
       "    }\n",
       "</style>\n",
       "<table border=\"1\" class=\"dataframe\">\n",
       "  <thead>\n",
       "    <tr style=\"text-align: right;\">\n",
       "      <th></th>\n",
       "      <th>competitorname</th>\n",
       "      <th>chocolate</th>\n",
       "      <th>fruity</th>\n",
       "      <th>caramel</th>\n",
       "      <th>peanutyalmondy</th>\n",
       "      <th>nougat</th>\n",
       "      <th>crispedricewafer</th>\n",
       "      <th>hard</th>\n",
       "      <th>bar</th>\n",
       "      <th>pluribus</th>\n",
       "      <th>sugarpercent</th>\n",
       "      <th>pricepercent</th>\n",
       "      <th>winpercent</th>\n",
       "    </tr>\n",
       "    <tr>\n",
       "      <th>id</th>\n",
       "      <th></th>\n",
       "      <th></th>\n",
       "      <th></th>\n",
       "      <th></th>\n",
       "      <th></th>\n",
       "      <th></th>\n",
       "      <th></th>\n",
       "      <th></th>\n",
       "      <th></th>\n",
       "      <th></th>\n",
       "      <th></th>\n",
       "      <th></th>\n",
       "      <th></th>\n",
       "    </tr>\n",
       "  </thead>\n",
       "  <tbody>\n",
       "    <tr>\n",
       "      <th>0</th>\n",
       "      <td>100 Grand</td>\n",
       "      <td>Yes</td>\n",
       "      <td>No</td>\n",
       "      <td>Yes</td>\n",
       "      <td>No</td>\n",
       "      <td>No</td>\n",
       "      <td>Yes</td>\n",
       "      <td>No</td>\n",
       "      <td>Yes</td>\n",
       "      <td>No</td>\n",
       "      <td>0.732</td>\n",
       "      <td>0.860</td>\n",
       "      <td>66.971725</td>\n",
       "    </tr>\n",
       "    <tr>\n",
       "      <th>1</th>\n",
       "      <td>3 Musketeers</td>\n",
       "      <td>Yes</td>\n",
       "      <td>No</td>\n",
       "      <td>No</td>\n",
       "      <td>No</td>\n",
       "      <td>Yes</td>\n",
       "      <td>No</td>\n",
       "      <td>No</td>\n",
       "      <td>Yes</td>\n",
       "      <td>No</td>\n",
       "      <td>0.604</td>\n",
       "      <td>0.511</td>\n",
       "      <td>67.602936</td>\n",
       "    </tr>\n",
       "    <tr>\n",
       "      <th>2</th>\n",
       "      <td>Air Heads</td>\n",
       "      <td>No</td>\n",
       "      <td>Yes</td>\n",
       "      <td>No</td>\n",
       "      <td>No</td>\n",
       "      <td>No</td>\n",
       "      <td>No</td>\n",
       "      <td>No</td>\n",
       "      <td>No</td>\n",
       "      <td>No</td>\n",
       "      <td>0.906</td>\n",
       "      <td>0.511</td>\n",
       "      <td>52.341465</td>\n",
       "    </tr>\n",
       "    <tr>\n",
       "      <th>3</th>\n",
       "      <td>Almond Joy</td>\n",
       "      <td>Yes</td>\n",
       "      <td>No</td>\n",
       "      <td>No</td>\n",
       "      <td>Yes</td>\n",
       "      <td>No</td>\n",
       "      <td>No</td>\n",
       "      <td>No</td>\n",
       "      <td>Yes</td>\n",
       "      <td>No</td>\n",
       "      <td>0.465</td>\n",
       "      <td>0.767</td>\n",
       "      <td>50.347546</td>\n",
       "    </tr>\n",
       "    <tr>\n",
       "      <th>4</th>\n",
       "      <td>Baby Ruth</td>\n",
       "      <td>Yes</td>\n",
       "      <td>No</td>\n",
       "      <td>Yes</td>\n",
       "      <td>Yes</td>\n",
       "      <td>Yes</td>\n",
       "      <td>No</td>\n",
       "      <td>No</td>\n",
       "      <td>Yes</td>\n",
       "      <td>No</td>\n",
       "      <td>0.604</td>\n",
       "      <td>0.767</td>\n",
       "      <td>56.914547</td>\n",
       "    </tr>\n",
       "  </tbody>\n",
       "</table>\n",
       "</div>"
      ],
      "text/plain": [
       "   competitorname chocolate fruity caramel peanutyalmondy nougat  \\\n",
       "id                                                                 \n",
       "0       100 Grand       Yes     No     Yes             No     No   \n",
       "1    3 Musketeers       Yes     No      No             No    Yes   \n",
       "2       Air Heads        No    Yes      No             No     No   \n",
       "3      Almond Joy       Yes     No      No            Yes     No   \n",
       "4       Baby Ruth       Yes     No     Yes            Yes    Yes   \n",
       "\n",
       "   crispedricewafer hard  bar pluribus  sugarpercent  pricepercent  winpercent  \n",
       "id                                                                              \n",
       "0               Yes   No  Yes       No         0.732         0.860   66.971725  \n",
       "1                No   No  Yes       No         0.604         0.511   67.602936  \n",
       "2                No   No   No       No         0.906         0.511   52.341465  \n",
       "3                No   No  Yes       No         0.465         0.767   50.347546  \n",
       "4                No   No  Yes       No         0.604         0.767   56.914547  "
      ]
     },
     "execution_count": 5,
     "metadata": {},
     "output_type": "execute_result"
    }
   ],
   "source": [
    "candy_data.head()"
   ]
  },
  {
   "cell_type": "markdown",
   "id": "6b817332",
   "metadata": {
    "papermill": {
     "duration": 0.025746,
     "end_time": "2022-03-29T04:44:17.878461",
     "exception": false,
     "start_time": "2022-03-29T04:44:17.852715",
     "status": "completed"
    },
    "tags": []
   },
   "source": [
    "The dataset contains 83 rows, where each corresponds to a different candy bar.  There are 13 columns:\n",
    "- `'competitorname'` contains the name of the candy bar. \n",
    "- the next **9** columns (from `'chocolate'` to `'pluribus'`) describe the candy.  For instance, rows with chocolate candies have `\"Yes\"` in the `'chocolate'` column (and candies without chocolate have `\"No\"` in the same column).\n",
    "- `'sugarpercent'` provides some indication of the amount of sugar, where higher values signify higher sugar content.\n",
    "- `'pricepercent'` shows the price per unit, relative to the other candies in the dataset.\n",
    "- `'winpercent'` is calculated from the survey results; higher values indicate that the candy was more popular with survey respondents.\n",
    "\n",
    "Use the first five rows of the data to answer the questions below."
   ]
  },
  {
   "cell_type": "code",
   "execution_count": 6,
   "id": "d8004817",
   "metadata": {
    "execution": {
     "iopub.execute_input": "2022-03-29T04:44:17.933030Z",
     "iopub.status.busy": "2022-03-29T04:44:17.932485Z",
     "iopub.status.idle": "2022-03-29T04:44:17.938166Z",
     "shell.execute_reply": "2022-03-29T04:44:17.938693Z",
     "shell.execute_reply.started": "2022-03-29T04:36:11.203007Z"
    },
    "papermill": {
     "duration": 0.034388,
     "end_time": "2022-03-29T04:44:17.938844",
     "exception": false,
     "start_time": "2022-03-29T04:44:17.904456",
     "status": "completed"
    },
    "tags": []
   },
   "outputs": [
    {
     "data": {
      "application/javascript": [
       "parent.postMessage({\"jupyterEvent\": \"custom.exercise_interaction\", \"data\": {\"outcomeType\": 1, \"valueTowardsCompletion\": 0.3333333333333333, \"interactionType\": 1, \"questionType\": 1, \"questionId\": \"2_ReviewData\", \"learnToolsVersion\": \"0.3.4\", \"failureMessage\": \"\", \"exceptionClass\": \"\", \"trace\": \"\"}}, \"*\")"
      ],
      "text/plain": [
       "<IPython.core.display.Javascript object>"
      ]
     },
     "metadata": {},
     "output_type": "display_data"
    },
    {
     "data": {
      "text/markdown": [
       "<span style=\"color:#33cc33\">Correct</span>"
      ],
      "text/plain": [
       "Correct"
      ]
     },
     "metadata": {},
     "output_type": "display_data"
    }
   ],
   "source": [
    "# Fill in the line below: Which candy was more popular with survey respondents:\n",
    "# '3 Musketeers' or 'Almond Joy'?  (Please enclose your answer in single quotes.)\n",
    "more_popular = '3 Musketeers'\n",
    "\n",
    "# Fill in the line below: Which candy has higher sugar content: 'Air Heads'\n",
    "# or 'Baby Ruth'? (Please enclose your answer in single quotes.)\n",
    "more_sugar = 'Air Heads'\n",
    "\n",
    "# Check your answers\n",
    "step_2.check()"
   ]
  },
  {
   "cell_type": "code",
   "execution_count": 7,
   "id": "f599c142",
   "metadata": {
    "execution": {
     "iopub.execute_input": "2022-03-29T04:44:17.995546Z",
     "iopub.status.busy": "2022-03-29T04:44:17.995003Z",
     "iopub.status.idle": "2022-03-29T04:44:17.997472Z",
     "shell.execute_reply": "2022-03-29T04:44:17.997973Z"
    },
    "papermill": {
     "duration": 0.03223,
     "end_time": "2022-03-29T04:44:17.998141",
     "exception": false,
     "start_time": "2022-03-29T04:44:17.965911",
     "status": "completed"
    },
    "tags": []
   },
   "outputs": [],
   "source": [
    "# Lines below will give you a hint or solution code\n",
    "#step_2.hint()\n",
    "#step_2.solution()"
   ]
  },
  {
   "cell_type": "markdown",
   "id": "0753f0df",
   "metadata": {
    "papermill": {
     "duration": 0.026932,
     "end_time": "2022-03-29T04:44:18.053309",
     "exception": false,
     "start_time": "2022-03-29T04:44:18.026377",
     "status": "completed"
    },
    "tags": []
   },
   "source": [
    "## Step 3: The role of sugar\n",
    "\n",
    "Do people tend to prefer candies with higher sugar content?  \n",
    "\n",
    "#### Part A\n",
    "\n",
    "Create a scatter plot that shows the relationship between `'sugarpercent'` (on the horizontal x-axis) and `'winpercent'` (on the vertical y-axis).  _Don't add a regression line just yet -- you'll do that in the next step!_"
   ]
  },
  {
   "cell_type": "code",
   "execution_count": 8,
   "id": "49cb50c5",
   "metadata": {
    "execution": {
     "iopub.execute_input": "2022-03-29T04:44:18.112109Z",
     "iopub.status.busy": "2022-03-29T04:44:18.111217Z",
     "iopub.status.idle": "2022-03-29T04:44:18.380871Z",
     "shell.execute_reply": "2022-03-29T04:44:18.380422Z",
     "shell.execute_reply.started": "2022-03-29T04:37:50.151979Z"
    },
    "papermill": {
     "duration": 0.299845,
     "end_time": "2022-03-29T04:44:18.381010",
     "exception": false,
     "start_time": "2022-03-29T04:44:18.081165",
     "status": "completed"
    },
    "tags": []
   },
   "outputs": [
    {
     "data": {
      "application/javascript": [
       "parent.postMessage({\"jupyterEvent\": \"custom.exercise_interaction\", \"data\": {\"outcomeType\": 1, \"valueTowardsCompletion\": 0.3333333333333333, \"interactionType\": 1, \"questionType\": 2, \"questionId\": \"3.1_PlotBlueScatter\", \"learnToolsVersion\": \"0.3.4\", \"failureMessage\": \"\", \"exceptionClass\": \"\", \"trace\": \"\"}}, \"*\")"
      ],
      "text/plain": [
       "<IPython.core.display.Javascript object>"
      ]
     },
     "metadata": {},
     "output_type": "display_data"
    },
    {
     "data": {
      "text/markdown": [
       "<span style=\"color:#33cc33\">Correct</span>"
      ],
      "text/plain": [
       "Correct"
      ]
     },
     "metadata": {},
     "output_type": "display_data"
    },
    {
     "data": {
      "image/png": "[encoded data removed]",
      "text/plain": [
       "<Figure size 1008x504 with 1 Axes>"
      ]
     },
     "metadata": {
      "needs_background": "light"
     },
     "output_type": "display_data"
    }
   ],
   "source": [
    "# Scatter plot showing the relationship between 'sugarpercent' and 'winpercent'\n",
    "plt.figure(figsize = (14, 7))\n",
    "plt.title(\"Sugarpercent vs Winpercent\")\n",
    "sns.scatterplot(x = candy_data['sugarpercent'], y = candy_data['winpercent'])\n",
    "# Check your answer\n",
    "step_3.a.check()"
   ]
  },
  {
   "cell_type": "code",
   "execution_count": 9,
   "id": "def7328f",
   "metadata": {
    "execution": {
     "iopub.execute_input": "2022-03-29T04:44:18.446907Z",
     "iopub.status.busy": "2022-03-29T04:44:18.445972Z",
     "iopub.status.idle": "2022-03-29T04:44:18.447955Z",
     "shell.execute_reply": "2022-03-29T04:44:18.448411Z"
    },
    "papermill": {
     "duration": 0.038617,
     "end_time": "2022-03-29T04:44:18.448556",
     "exception": false,
     "start_time": "2022-03-29T04:44:18.409939",
     "status": "completed"
    },
    "tags": []
   },
   "outputs": [],
   "source": [
    "# Lines below will give you a hint or solution code\n",
    "#step_3.a.hint()\n",
    "#step_3.a.solution_plot()"
   ]
  },
  {
   "cell_type": "markdown",
   "id": "a52cd6f6",
   "metadata": {
    "papermill": {
     "duration": 0.028761,
     "end_time": "2022-03-29T04:44:18.506538",
     "exception": false,
     "start_time": "2022-03-29T04:44:18.477777",
     "status": "completed"
    },
    "tags": []
   },
   "source": [
    "#### Part B\n",
    "\n",
    "Does the scatter plot show a **strong** correlation between the two variables?  If so, are candies with more sugar relatively more or less popular with the survey respondents?"
   ]
  },
  {
   "cell_type": "markdown",
   "id": "1c9a2b43",
   "metadata": {
    "papermill": {
     "duration": 0.028648,
     "end_time": "2022-03-29T04:44:18.564336",
     "exception": false,
     "start_time": "2022-03-29T04:44:18.535688",
     "status": "completed"
    },
    "tags": []
   },
   "source": []
  },
  {
   "cell_type": "markdown",
   "id": "972158e3",
   "metadata": {
    "papermill": {
     "duration": 0.03514,
     "end_time": "2022-03-29T04:44:18.629629",
     "exception": false,
     "start_time": "2022-03-29T04:44:18.594489",
     "status": "completed"
    },
    "tags": []
   },
   "source": [
    "##### Weak correlation between sugarpercent and winpercent, so whether candies with more sugar, it does not affect the popular."
   ]
  },
  {
   "cell_type": "code",
   "execution_count": 10,
   "id": "640d50d8",
   "metadata": {
    "execution": {
     "iopub.execute_input": "2022-03-29T04:44:18.704346Z",
     "iopub.status.busy": "2022-03-29T04:44:18.703241Z",
     "iopub.status.idle": "2022-03-29T04:44:18.706762Z",
     "shell.execute_reply": "2022-03-29T04:44:18.707219Z"
    },
    "papermill": {
     "duration": 0.040328,
     "end_time": "2022-03-29T04:44:18.707394",
     "exception": false,
     "start_time": "2022-03-29T04:44:18.667066",
     "status": "completed"
    },
    "tags": []
   },
   "outputs": [],
   "source": [
    "#step_3.b.hint()"
   ]
  },
  {
   "cell_type": "code",
   "execution_count": 11,
   "id": "c68cc0db",
   "metadata": {
    "execution": {
     "iopub.execute_input": "2022-03-29T04:44:18.772166Z",
     "iopub.status.busy": "2022-03-29T04:44:18.771211Z",
     "iopub.status.idle": "2022-03-29T04:44:18.775790Z",
     "shell.execute_reply": "2022-03-29T04:44:18.776269Z",
     "shell.execute_reply.started": "2022-03-29T04:40:20.919687Z"
    },
    "papermill": {
     "duration": 0.039523,
     "end_time": "2022-03-29T04:44:18.776453",
     "exception": false,
     "start_time": "2022-03-29T04:44:18.736930",
     "status": "completed"
    },
    "tags": []
   },
   "outputs": [
    {
     "data": {
      "application/javascript": [
       "parent.postMessage({\"jupyterEvent\": \"custom.exercise_interaction\", \"data\": {\"interactionType\": 3, \"questionType\": 4, \"questionId\": \"3.2_ThinkBlueScatter\", \"learnToolsVersion\": \"0.3.4\", \"valueTowardsCompletion\": 0.0, \"failureMessage\": \"\", \"exceptionClass\": \"\", \"trace\": \"\", \"outcomeType\": 4}}, \"*\")"
      ],
      "text/plain": [
       "<IPython.core.display.Javascript object>"
      ]
     },
     "metadata": {},
     "output_type": "display_data"
    },
    {
     "data": {
      "text/markdown": [
       "<span style=\"color:#33cc99\">Solution:</span> The scatter plot does not show a strong correlation between the two variables. Since there is no clear relationship between the two variables, this tells us that sugar content does not play a strong role in candy popularity."
      ],
      "text/plain": [
       "Solution: The scatter plot does not show a strong correlation between the two variables. Since there is no clear relationship between the two variables, this tells us that sugar content does not play a strong role in candy popularity."
      ]
     },
     "metadata": {},
     "output_type": "display_data"
    }
   ],
   "source": [
    "# Check your answer (Run this code cell to receive credit!)\n",
    "step_3.b.solution()"
   ]
  },
  {
   "cell_type": "markdown",
   "id": "04498ac6",
   "metadata": {
    "papermill": {
     "duration": 0.030077,
     "end_time": "2022-03-29T04:44:18.836495",
     "exception": false,
     "start_time": "2022-03-29T04:44:18.806418",
     "status": "completed"
    },
    "tags": []
   },
   "source": [
    "## Step 4: Take a closer look\n",
    "\n",
    "#### Part A\n",
    "\n",
    "Create the same scatter plot you created in **Step 3**, but now with a regression line!"
   ]
  },
  {
   "cell_type": "code",
   "execution_count": 12,
   "id": "a3c8ca31",
   "metadata": {
    "execution": {
     "iopub.execute_input": "2022-03-29T04:44:18.900746Z",
     "iopub.status.busy": "2022-03-29T04:44:18.899862Z",
     "iopub.status.idle": "2022-03-29T04:44:18.909439Z",
     "shell.execute_reply": "2022-03-29T04:44:18.909856Z"
    },
    "papermill": {
     "duration": 0.043496,
     "end_time": "2022-03-29T04:44:18.910020",
     "exception": false,
     "start_time": "2022-03-29T04:44:18.866524",
     "status": "completed"
    },
    "tags": []
   },
   "outputs": [
    {
     "data": {
      "application/javascript": [
       "parent.postMessage({\"jupyterEvent\": \"custom.exercise_interaction\", \"data\": {\"outcomeType\": 2, \"failureMessage\": \"Please write code to create a scatter plot with a regression line.\", \"interactionType\": 1, \"questionType\": 2, \"questionId\": \"4.1_PlotBlueReg\", \"learnToolsVersion\": \"0.3.4\", \"valueTowardsCompletion\": 0.0, \"exceptionClass\": \"\", \"trace\": \"\"}}, \"*\")"
      ],
      "text/plain": [
       "<IPython.core.display.Javascript object>"
      ]
     },
     "metadata": {},
     "output_type": "display_data"
    },
    {
     "data": {
      "text/markdown": [
       "<span style=\"color:#cc3333\">Incorrect:</span> Please write code to create a scatter plot with a regression line."
      ],
      "text/plain": [
       "Incorrect: Please write code to create a scatter plot with a regression line."
      ]
     },
     "metadata": {},
     "output_type": "display_data"
    },
    {
     "data": {
      "text/plain": [
       "<Figure size 432x288 with 0 Axes>"
      ]
     },
     "metadata": {},
     "output_type": "display_data"
    }
   ],
   "source": [
    "# Scatter plot w/ regression line showing the relationship between 'sugarpercent' and 'winpercent'\n",
    "____ # Your code here\n",
    "\n",
    "# Check your answer\n",
    "step_4.a.check()"
   ]
  },
  {
   "cell_type": "code",
   "execution_count": 13,
   "id": "f141595e",
   "metadata": {
    "execution": {
     "iopub.execute_input": "2022-03-29T04:44:18.976430Z",
     "iopub.status.busy": "2022-03-29T04:44:18.975529Z",
     "iopub.status.idle": "2022-03-29T04:44:18.978446Z",
     "shell.execute_reply": "2022-03-29T04:44:18.978856Z"
    },
    "papermill": {
     "duration": 0.037543,
     "end_time": "2022-03-29T04:44:18.979039",
     "exception": false,
     "start_time": "2022-03-29T04:44:18.941496",
     "status": "completed"
    },
    "tags": []
   },
   "outputs": [],
   "source": [
    "# Lines below will give you a hint or solution code\n",
    "#step_4.a.hint()\n",
    "#step_4.a.solution_plot()"
   ]
  },
  {
   "cell_type": "markdown",
   "id": "9d396635",
   "metadata": {
    "papermill": {
     "duration": 0.031429,
     "end_time": "2022-03-29T04:44:19.042072",
     "exception": false,
     "start_time": "2022-03-29T04:44:19.010643",
     "status": "completed"
    },
    "tags": []
   },
   "source": [
    "#### Part B\n",
    "\n",
    "According to the plot above, is there a **slight** correlation between `'winpercent'` and `'sugarpercent'`?  What does this tell you about the candy that people tend to prefer?"
   ]
  },
  {
   "cell_type": "code",
   "execution_count": 14,
   "id": "8d201b0d",
   "metadata": {
    "execution": {
     "iopub.execute_input": "2022-03-29T04:44:19.110311Z",
     "iopub.status.busy": "2022-03-29T04:44:19.109481Z",
     "iopub.status.idle": "2022-03-29T04:44:19.112342Z",
     "shell.execute_reply": "2022-03-29T04:44:19.111831Z"
    },
    "papermill": {
     "duration": 0.038807,
     "end_time": "2022-03-29T04:44:19.112477",
     "exception": false,
     "start_time": "2022-03-29T04:44:19.073670",
     "status": "completed"
    },
    "tags": []
   },
   "outputs": [],
   "source": [
    "#step_4.b.hint()"
   ]
  },
  {
   "cell_type": "code",
   "execution_count": 15,
   "id": "64abf670",
   "metadata": {
    "execution": {
     "iopub.execute_input": "2022-03-29T04:44:19.180921Z",
     "iopub.status.busy": "2022-03-29T04:44:19.179996Z",
     "iopub.status.idle": "2022-03-29T04:44:19.185897Z",
     "shell.execute_reply": "2022-03-29T04:44:19.185347Z"
    },
    "papermill": {
     "duration": 0.041677,
     "end_time": "2022-03-29T04:44:19.186060",
     "exception": false,
     "start_time": "2022-03-29T04:44:19.144383",
     "status": "completed"
    },
    "tags": []
   },
   "outputs": [
    {
     "data": {
      "application/javascript": [
       "parent.postMessage({\"jupyterEvent\": \"custom.exercise_interaction\", \"data\": {\"interactionType\": 3, \"questionType\": 4, \"questionId\": \"4.2_ThinkBlueReg\", \"learnToolsVersion\": \"0.3.4\", \"valueTowardsCompletion\": 0.0, \"failureMessage\": \"\", \"exceptionClass\": \"\", \"trace\": \"\", \"outcomeType\": 4}}, \"*\")"
      ],
      "text/plain": [
       "<IPython.core.display.Javascript object>"
      ]
     },
     "metadata": {},
     "output_type": "display_data"
    },
    {
     "data": {
      "text/markdown": [
       "<span style=\"color:#33cc99\">Solution:</span> Since the regression line has a slightly positive slope, this tells us that there is a slightly positive correlation between `'winpercent'` and `'sugarpercent'`. Thus, people have a slight preference for candies containing relatively more sugar."
      ],
      "text/plain": [
       "Solution: Since the regression line has a slightly positive slope, this tells us that there is a slightly positive correlation between `'winpercent'` and `'sugarpercent'`. Thus, people have a slight preference for candies containing relatively more sugar."
      ]
     },
     "metadata": {},
     "output_type": "display_data"
    }
   ],
   "source": [
    "# Check your answer (Run this code cell to receive credit!)\n",
    "step_4.b.solution()"
   ]
  },
  {
   "cell_type": "markdown",
   "id": "cf31d4c2",
   "metadata": {
    "papermill": {
     "duration": 0.045815,
     "end_time": "2022-03-29T04:44:19.277590",
     "exception": false,
     "start_time": "2022-03-29T04:44:19.231775",
     "status": "completed"
    },
    "tags": []
   },
   "source": [
    "## Step 5: Chocolate!\n",
    "\n",
    "In the code cell below, create a scatter plot to show the relationship between `'pricepercent'` (on the horizontal x-axis) and `'winpercent'` (on the vertical y-axis). Use the `'chocolate'` column to color-code the points.  _Don't add any regression lines just yet -- you'll do that in the next step!_"
   ]
  },
  {
   "cell_type": "code",
   "execution_count": 16,
   "id": "c0593a88",
   "metadata": {
    "execution": {
     "iopub.execute_input": "2022-03-29T04:44:19.350490Z",
     "iopub.status.busy": "2022-03-29T04:44:19.349616Z",
     "iopub.status.idle": "2022-03-29T04:44:19.359487Z",
     "shell.execute_reply": "2022-03-29T04:44:19.360157Z"
    },
    "papermill": {
     "duration": 0.046928,
     "end_time": "2022-03-29T04:44:19.360369",
     "exception": false,
     "start_time": "2022-03-29T04:44:19.313441",
     "status": "completed"
    },
    "tags": []
   },
   "outputs": [
    {
     "data": {
      "application/javascript": [
       "parent.postMessage({\"jupyterEvent\": \"custom.exercise_interaction\", \"data\": {\"outcomeType\": 2, \"failureMessage\": \"After you've written code to create a scatter plot, `check()` will tell you whether your code is correct.\", \"interactionType\": 1, \"questionType\": 2, \"questionId\": \"5_ColorScatter\", \"learnToolsVersion\": \"0.3.4\", \"valueTowardsCompletion\": 0.0, \"exceptionClass\": \"\", \"trace\": \"\"}}, \"*\")"
      ],
      "text/plain": [
       "<IPython.core.display.Javascript object>"
      ]
     },
     "metadata": {},
     "output_type": "display_data"
    },
    {
     "data": {
      "text/markdown": [
       "<span style=\"color:#cc3333\">Incorrect:</span> After you've written code to create a scatter plot, `check()` will tell you whether your code is correct."
      ],
      "text/plain": [
       "Incorrect: After you've written code to create a scatter plot, `check()` will tell you whether your code is correct."
      ]
     },
     "metadata": {},
     "output_type": "display_data"
    },
    {
     "data": {
      "text/plain": [
       "<Figure size 432x288 with 0 Axes>"
      ]
     },
     "metadata": {},
     "output_type": "display_data"
    }
   ],
   "source": [
    "# Scatter plot showing the relationship between 'pricepercent', 'winpercent', and 'chocolate'\n",
    "____ # Your code here\n",
    "\n",
    "# Check your answer\n",
    "step_5.check()"
   ]
  },
  {
   "cell_type": "code",
   "execution_count": 17,
   "id": "0fdf1dfa",
   "metadata": {
    "execution": {
     "iopub.execute_input": "2022-03-29T04:44:19.440038Z",
     "iopub.status.busy": "2022-03-29T04:44:19.439443Z",
     "iopub.status.idle": "2022-03-29T04:44:19.442971Z",
     "shell.execute_reply": "2022-03-29T04:44:19.443541Z"
    },
    "papermill": {
     "duration": 0.042239,
     "end_time": "2022-03-29T04:44:19.443696",
     "exception": false,
     "start_time": "2022-03-29T04:44:19.401457",
     "status": "completed"
    },
    "tags": []
   },
   "outputs": [],
   "source": [
    "# Lines below will give you a hint or solution code\n",
    "#step_5.hint()\n",
    "#step_5.solution_plot()"
   ]
  },
  {
   "cell_type": "markdown",
   "id": "ecd95c4c",
   "metadata": {
    "papermill": {
     "duration": 0.047391,
     "end_time": "2022-03-29T04:44:19.528223",
     "exception": false,
     "start_time": "2022-03-29T04:44:19.480832",
     "status": "completed"
    },
    "tags": []
   },
   "source": [
    "Can you see any interesting patterns in the scatter plot?  We'll investigate this plot further  by adding regression lines in the next step!\n",
    "\n",
    "## Step 6: Investigate chocolate\n",
    "\n",
    "#### Part A\n",
    "\n",
    "Create the same scatter plot you created in **Step 5**, but now with two regression lines, corresponding to (1) chocolate candies and (2) candies without chocolate."
   ]
  },
  {
   "cell_type": "code",
   "execution_count": 18,
   "id": "8b28eeae",
   "metadata": {
    "execution": {
     "iopub.execute_input": "2022-03-29T04:44:19.603554Z",
     "iopub.status.busy": "2022-03-29T04:44:19.602946Z",
     "iopub.status.idle": "2022-03-29T04:44:19.613255Z",
     "shell.execute_reply": "2022-03-29T04:44:19.613693Z"
    },
    "papermill": {
     "duration": 0.048522,
     "end_time": "2022-03-29T04:44:19.613847",
     "exception": false,
     "start_time": "2022-03-29T04:44:19.565325",
     "status": "completed"
    },
    "tags": []
   },
   "outputs": [
    {
     "data": {
      "application/javascript": [
       "parent.postMessage({\"jupyterEvent\": \"custom.exercise_interaction\", \"data\": {\"outcomeType\": 2, \"failureMessage\": \"After you've written code to create a scatter plot, `check()` will tell you whether your code is correct.\", \"interactionType\": 1, \"questionType\": 2, \"questionId\": \"6.1_PlotColorReg\", \"learnToolsVersion\": \"0.3.4\", \"valueTowardsCompletion\": 0.0, \"exceptionClass\": \"\", \"trace\": \"\"}}, \"*\")"
      ],
      "text/plain": [
       "<IPython.core.display.Javascript object>"
      ]
     },
     "metadata": {},
     "output_type": "display_data"
    },
    {
     "data": {
      "text/markdown": [
       "<span style=\"color:#cc3333\">Incorrect:</span> After you've written code to create a scatter plot, `check()` will tell you whether your code is correct."
      ],
      "text/plain": [
       "Incorrect: After you've written code to create a scatter plot, `check()` will tell you whether your code is correct."
      ]
     },
     "metadata": {},
     "output_type": "display_data"
    },
    {
     "data": {
      "text/plain": [
       "<Figure size 432x288 with 0 Axes>"
      ]
     },
     "metadata": {},
     "output_type": "display_data"
    }
   ],
   "source": [
    "# Color-coded scatter plot w/ regression lines\n",
    "____ # Your code here\n",
    "\n",
    "# Check your answer\n",
    "step_6.a.check()"
   ]
  },
  {
   "cell_type": "code",
   "execution_count": 19,
   "id": "ad7f62a5",
   "metadata": {
    "execution": {
     "iopub.execute_input": "2022-03-29T04:44:19.690877Z",
     "iopub.status.busy": "2022-03-29T04:44:19.690309Z",
     "iopub.status.idle": "2022-03-29T04:44:19.693800Z",
     "shell.execute_reply": "2022-03-29T04:44:19.694351Z"
    },
    "papermill": {
     "duration": 0.043998,
     "end_time": "2022-03-29T04:44:19.694517",
     "exception": false,
     "start_time": "2022-03-29T04:44:19.650519",
     "status": "completed"
    },
    "tags": []
   },
   "outputs": [],
   "source": [
    "# Lines below will give you a hint or solution code\n",
    "#step_6.a.hint()\n",
    "#step_6.a.solution_plot()"
   ]
  },
  {
   "cell_type": "markdown",
   "id": "f3c32309",
   "metadata": {
    "papermill": {
     "duration": 0.035934,
     "end_time": "2022-03-29T04:44:19.766466",
     "exception": false,
     "start_time": "2022-03-29T04:44:19.730532",
     "status": "completed"
    },
    "tags": []
   },
   "source": [
    "#### Part B\n",
    "\n",
    "Using the regression lines, what conclusions can you draw about the effects of chocolate and price on candy popularity?"
   ]
  },
  {
   "cell_type": "code",
   "execution_count": 20,
   "id": "8b8ec162",
   "metadata": {
    "execution": {
     "iopub.execute_input": "2022-03-29T04:44:19.842896Z",
     "iopub.status.busy": "2022-03-29T04:44:19.842150Z",
     "iopub.status.idle": "2022-03-29T04:44:19.844758Z",
     "shell.execute_reply": "2022-03-29T04:44:19.845284Z"
    },
    "papermill": {
     "duration": 0.042834,
     "end_time": "2022-03-29T04:44:19.845443",
     "exception": false,
     "start_time": "2022-03-29T04:44:19.802609",
     "status": "completed"
    },
    "tags": []
   },
   "outputs": [],
   "source": [
    "#step_6.b.hint()"
   ]
  },
  {
   "cell_type": "code",
   "execution_count": 21,
   "id": "4f39721a",
   "metadata": {
    "execution": {
     "iopub.execute_input": "2022-03-29T04:44:19.922634Z",
     "iopub.status.busy": "2022-03-29T04:44:19.921633Z",
     "iopub.status.idle": "2022-03-29T04:44:19.928519Z",
     "shell.execute_reply": "2022-03-29T04:44:19.929067Z"
    },
    "papermill": {
     "duration": 0.046875,
     "end_time": "2022-03-29T04:44:19.929231",
     "exception": false,
     "start_time": "2022-03-29T04:44:19.882356",
     "status": "completed"
    },
    "tags": []
   },
   "outputs": [
    {
     "data": {
      "application/javascript": [
       "parent.postMessage({\"jupyterEvent\": \"custom.exercise_interaction\", \"data\": {\"interactionType\": 3, \"questionType\": 4, \"questionId\": \"6.2_ThinkColorReg\", \"learnToolsVersion\": \"0.3.4\", \"valueTowardsCompletion\": 0.0, \"failureMessage\": \"\", \"exceptionClass\": \"\", \"trace\": \"\", \"outcomeType\": 4}}, \"*\")"
      ],
      "text/plain": [
       "<IPython.core.display.Javascript object>"
      ]
     },
     "metadata": {},
     "output_type": "display_data"
    },
    {
     "data": {
      "text/markdown": [
       "<span style=\"color:#33cc99\">Solution:</span> We'll begin with the regression line for chocolate candies. Since this line has a slightly positive slope, we can say that more expensive chocolate candies tend to be more popular (than relatively cheaper chocolate candies).  Likewise, since the regression line for candies without chocolate has a negative slope, we can say that if candies don't contain chocolate, they tend to be more popular when they are cheaper.  One important note, however, is that the dataset is quite small -- so we shouldn't invest too much trust in these patterns!  To inspire more confidence in the results, we should add more candies to the dataset."
      ],
      "text/plain": [
       "Solution: We'll begin with the regression line for chocolate candies. Since this line has a slightly positive slope, we can say that more expensive chocolate candies tend to be more popular (than relatively cheaper chocolate candies).  Likewise, since the regression line for candies without chocolate has a negative slope, we can say that if candies don't contain chocolate, they tend to be more popular when they are cheaper.  One important note, however, is that the dataset is quite small -- so we shouldn't invest too much trust in these patterns!  To inspire more confidence in the results, we should add more candies to the dataset."
      ]
     },
     "metadata": {},
     "output_type": "display_data"
    }
   ],
   "source": [
    "# Check your answer (Run this code cell to receive credit!)\n",
    "step_6.b.solution()"
   ]
  },
  {
   "cell_type": "markdown",
   "id": "9cd48cf6",
   "metadata": {
    "papermill": {
     "duration": 0.039128,
     "end_time": "2022-03-29T04:44:20.006380",
     "exception": false,
     "start_time": "2022-03-29T04:44:19.967252",
     "status": "completed"
    },
    "tags": []
   },
   "source": [
    "## Step 7: Everybody loves chocolate.\n",
    "\n",
    "#### Part A\n",
    "\n",
    "Create a categorical scatter plot to highlight the relationship between `'chocolate'` and `'winpercent'`.  Put `'chocolate'` on the (horizontal) x-axis, and `'winpercent'` on the (vertical) y-axis."
   ]
  },
  {
   "cell_type": "code",
   "execution_count": 22,
   "id": "31fd9307",
   "metadata": {
    "execution": {
     "iopub.execute_input": "2022-03-29T04:44:20.085103Z",
     "iopub.status.busy": "2022-03-29T04:44:20.084553Z",
     "iopub.status.idle": "2022-03-29T04:44:20.092424Z",
     "shell.execute_reply": "2022-03-29T04:44:20.092894Z"
    },
    "papermill": {
     "duration": 0.049254,
     "end_time": "2022-03-29T04:44:20.093059",
     "exception": false,
     "start_time": "2022-03-29T04:44:20.043805",
     "status": "completed"
    },
    "tags": []
   },
   "outputs": [
    {
     "data": {
      "application/javascript": [
       "parent.postMessage({\"jupyterEvent\": \"custom.exercise_interaction\", \"data\": {\"outcomeType\": 2, \"failureMessage\": \"Please write code to create a categorical scatter plot.\", \"interactionType\": 1, \"questionType\": 2, \"questionId\": \"7.1_PlotSwarm\", \"learnToolsVersion\": \"0.3.4\", \"valueTowardsCompletion\": 0.0, \"exceptionClass\": \"\", \"trace\": \"\"}}, \"*\")"
      ],
      "text/plain": [
       "<IPython.core.display.Javascript object>"
      ]
     },
     "metadata": {},
     "output_type": "display_data"
    },
    {
     "data": {
      "text/markdown": [
       "<span style=\"color:#cc3333\">Incorrect:</span> Please write code to create a categorical scatter plot."
      ],
      "text/plain": [
       "Incorrect: Please write code to create a categorical scatter plot."
      ]
     },
     "metadata": {},
     "output_type": "display_data"
    },
    {
     "data": {
      "text/plain": [
       "<Figure size 432x288 with 0 Axes>"
      ]
     },
     "metadata": {},
     "output_type": "display_data"
    }
   ],
   "source": [
    "# Scatter plot showing the relationship between 'chocolate' and 'winpercent'\n",
    "____ # Your code here\n",
    "\n",
    "# Check your answer\n",
    "step_7.a.check()"
   ]
  },
  {
   "cell_type": "code",
   "execution_count": 23,
   "id": "51c51f3d",
   "metadata": {
    "execution": {
     "iopub.execute_input": "2022-03-29T04:44:20.173731Z",
     "iopub.status.busy": "2022-03-29T04:44:20.173139Z",
     "iopub.status.idle": "2022-03-29T04:44:20.175652Z",
     "shell.execute_reply": "2022-03-29T04:44:20.176198Z"
    },
    "papermill": {
     "duration": 0.044791,
     "end_time": "2022-03-29T04:44:20.176375",
     "exception": false,
     "start_time": "2022-03-29T04:44:20.131584",
     "status": "completed"
    },
    "tags": []
   },
   "outputs": [],
   "source": [
    "# Lines below will give you a hint or solution code\n",
    "#step_7.a.hint()\n",
    "#step_7.a.solution_plot()"
   ]
  },
  {
   "cell_type": "markdown",
   "id": "8dbb5165",
   "metadata": {
    "papermill": {
     "duration": 0.038298,
     "end_time": "2022-03-29T04:44:20.253376",
     "exception": false,
     "start_time": "2022-03-29T04:44:20.215078",
     "status": "completed"
    },
    "tags": []
   },
   "source": [
    "#### Part B\n",
    "\n",
    "You decide to dedicate a section of your report to the fact that chocolate candies tend to be more popular than candies without chocolate.  Which plot is more appropriate to tell this story: the plot from **Step 6**, or the plot from **Step 7**?"
   ]
  },
  {
   "cell_type": "code",
   "execution_count": 24,
   "id": "e6cf81b9",
   "metadata": {
    "execution": {
     "iopub.execute_input": "2022-03-29T04:44:20.333397Z",
     "iopub.status.busy": "2022-03-29T04:44:20.332844Z",
     "iopub.status.idle": "2022-03-29T04:44:20.335671Z",
     "shell.execute_reply": "2022-03-29T04:44:20.336129Z"
    },
    "papermill": {
     "duration": 0.044394,
     "end_time": "2022-03-29T04:44:20.336278",
     "exception": false,
     "start_time": "2022-03-29T04:44:20.291884",
     "status": "completed"
    },
    "tags": []
   },
   "outputs": [],
   "source": [
    "#step_7.b.hint()"
   ]
  },
  {
   "cell_type": "code",
   "execution_count": 25,
   "id": "33ae8f9e",
   "metadata": {
    "execution": {
     "iopub.execute_input": "2022-03-29T04:44:20.416440Z",
     "iopub.status.busy": "2022-03-29T04:44:20.415855Z",
     "iopub.status.idle": "2022-03-29T04:44:20.421336Z",
     "shell.execute_reply": "2022-03-29T04:44:20.421837Z"
    },
    "papermill": {
     "duration": 0.046982,
     "end_time": "2022-03-29T04:44:20.422011",
     "exception": false,
     "start_time": "2022-03-29T04:44:20.375029",
     "status": "completed"
    },
    "tags": []
   },
   "outputs": [
    {
     "data": {
      "application/javascript": [
       "parent.postMessage({\"jupyterEvent\": \"custom.exercise_interaction\", \"data\": {\"interactionType\": 3, \"questionType\": 4, \"questionId\": \"7.2_ThinkSwarm\", \"learnToolsVersion\": \"0.3.4\", \"valueTowardsCompletion\": 0.0, \"failureMessage\": \"\", \"exceptionClass\": \"\", \"trace\": \"\", \"outcomeType\": 4}}, \"*\")"
      ],
      "text/plain": [
       "<IPython.core.display.Javascript object>"
      ]
     },
     "metadata": {},
     "output_type": "display_data"
    },
    {
     "data": {
      "text/markdown": [
       "<span style=\"color:#33cc99\">Solution:</span> In this case, the categorical scatter plot from **Step 7** is the more appropriate plot. While both plots tell the desired story, the plot from **Step 6** conveys far more information that could distract from the main point."
      ],
      "text/plain": [
       "Solution: In this case, the categorical scatter plot from **Step 7** is the more appropriate plot. While both plots tell the desired story, the plot from **Step 6** conveys far more information that could distract from the main point."
      ]
     },
     "metadata": {},
     "output_type": "display_data"
    }
   ],
   "source": [
    "# Check your answer (Run this code cell to receive credit!)\n",
    "step_7.b.solution()"
   ]
  },
  {
   "cell_type": "markdown",
   "id": "81b3e8af",
   "metadata": {
    "papermill": {
     "duration": 0.039494,
     "end_time": "2022-03-29T04:44:20.502187",
     "exception": false,
     "start_time": "2022-03-29T04:44:20.462693",
     "status": "completed"
    },
    "tags": []
   },
   "source": [
    "## Keep going\n",
    "\n",
    "Explore **[histograms and density plots](https://www.kaggle.com/alexisbcook/distributions)**."
   ]
  },
  {
   "cell_type": "markdown",
   "id": "f5a355bb",
   "metadata": {
    "papermill": {
     "duration": 0.039344,
     "end_time": "2022-03-29T04:44:20.581368",
     "exception": false,
     "start_time": "2022-03-29T04:44:20.542024",
     "status": "completed"
    },
    "tags": []
   },
   "source": [
    "---\n",
    "\n",
    "\n",
    "\n",
    "\n",
    "*Have questions or comments? Visit the [course discussion forum](https://www.kaggle.com/learn/data-visualization/discussion) to chat with other learners.*"
   ]
  }
 ],
 "metadata": {
  "kernelspec": {
   "display_name": "Python 3",
   "language": "python",
   "name": "python3"
  },
  "language_info": {
   "codemirror_mode": {
    "name": "ipython",
    "version": 3
   },
   "file_extension": ".py",
   "mimetype": "text/x-python",
   "name": "python",
   "nbconvert_exporter": "python",
   "pygments_lexer": "ipython3",
   "version": "3.7.12"
  },
  "papermill": {
   "default_parameters": {},
   "duration": 13.22368,
   "end_time": "2022-03-29T04:44:21.230386",
   "environment_variables": {},
   "exception": null,
   "input_path": "__notebook__.ipynb",
   "output_path": "__notebook__.ipynb",
   "parameters": {},
   "start_time": "2022-03-29T04:44:08.006706",
   "version": "2.3.3"
  }
 },
 "nbformat": 4,
 "nbformat_minor": 5
}
