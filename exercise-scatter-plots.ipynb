{
 "cells": [
  {
   "cell_type": "markdown",
   "id": "34004ea7",
   "metadata": {
    "papermill": {
     "duration": 0.036258,
     "end_time": "2022-03-29T06:07:33.540114",
     "exception": false,
     "start_time": "2022-03-29T06:07:33.503856",
     "status": "completed"
    },
    "tags": []
   },
   "source": [
    "**This notebook is an exercise in the [Data Visualization](https://www.kaggle.com/learn/data-visualization) course.  You can reference the tutorial at [this link](https://www.kaggle.com/alexisbcook/scatter-plots).**\n",
    "\n",
    "---\n"
   ]
  },
  {
   "cell_type": "markdown",
   "id": "7aa60edb",
   "metadata": {
    "papermill": {
     "duration": 0.033933,
     "end_time": "2022-03-29T06:07:33.608470",
     "exception": false,
     "start_time": "2022-03-29T06:07:33.574537",
     "status": "completed"
    },
    "tags": []
   },
   "source": [
    "In this exercise, you will use your new knowledge to propose a solution to a real-world scenario.  To succeed, you will need to import data into Python, answer questions using the data, and generate **scatter plots** to understand patterns in the data.\n",
    "\n",
    "## Scenario\n",
    "\n",
    "You work for a major candy producer, and your goal is to write a report that your company can use to guide the design of its next product.  Soon after starting your research, you stumble across this [very interesting dataset](https://fivethirtyeight.com/features/the-ultimate-halloween-candy-power-ranking/) containing results from a fun survey to crowdsource favorite candies.\n",
    "\n",
    "## Setup\n",
    "\n",
    "Run the next cell to import and configure the Python libraries that you need to complete the exercise."
   ]
  },
  {
   "cell_type": "code",
   "execution_count": 1,
   "id": "c9e051f4",
   "metadata": {
    "execution": {
     "iopub.execute_input": "2022-03-29T06:07:33.686934Z",
     "iopub.status.busy": "2022-03-29T06:07:33.686363Z",
     "iopub.status.idle": "2022-03-29T06:07:34.640029Z",
     "shell.execute_reply": "2022-03-29T06:07:34.640455Z",
     "shell.execute_reply.started": "2022-03-29T05:45:03.908042Z"
    },
    "papermill": {
     "duration": 0.998318,
     "end_time": "2022-03-29T06:07:34.640717",
     "exception": false,
     "start_time": "2022-03-29T06:07:33.642399",
     "status": "completed"
    },
    "tags": []
   },
   "outputs": [
    {
     "name": "stdout",
     "output_type": "stream",
     "text": [
      "Setup Complete\n"
     ]
    }
   ],
   "source": [
    "import pandas as pd\n",
    "pd.plotting.register_matplotlib_converters()\n",
    "import matplotlib.pyplot as plt\n",
    "%matplotlib inline\n",
    "import seaborn as sns\n",
    "print(\"Setup Complete\")"
   ]
  },
  {
   "cell_type": "markdown",
   "id": "701718bf",
   "metadata": {
    "papermill": {
     "duration": 0.032345,
     "end_time": "2022-03-29T06:07:34.707463",
     "exception": false,
     "start_time": "2022-03-29T06:07:34.675118",
     "status": "completed"
    },
    "tags": []
   },
   "source": [
    "The questions below will give you feedback on your work. Run the following cell to set up our feedback system."
   ]
  },
  {
   "cell_type": "code",
   "execution_count": 2,
   "id": "6574a67c",
   "metadata": {
    "execution": {
     "iopub.execute_input": "2022-03-29T06:07:34.778268Z",
     "iopub.status.busy": "2022-03-29T06:07:34.777701Z",
     "iopub.status.idle": "2022-03-29T06:07:34.829074Z",
     "shell.execute_reply": "2022-03-29T06:07:34.828441Z",
     "shell.execute_reply.started": "2022-03-29T05:45:06.405881Z"
    },
    "papermill": {
     "duration": 0.08899,
     "end_time": "2022-03-29T06:07:34.829211",
     "exception": false,
     "start_time": "2022-03-29T06:07:34.740221",
     "status": "completed"
    },
    "tags": []
   },
   "outputs": [
    {
     "name": "stdout",
     "output_type": "stream",
     "text": [
      "Setup Complete\n"
     ]
    }
   ],
   "source": [
    "# Set up code checking\n",
    "import os\n",
    "if not os.path.exists(\"../input/candy.csv\"):\n",
    "    os.symlink(\"../input/data-for-datavis/candy.csv\", \"../input/candy.csv\") \n",
    "from learntools.core import binder\n",
    "binder.bind(globals())\n",
    "from learntools.data_viz_to_coder.ex4 import *\n",
    "print(\"Setup Complete\")"
   ]
  },
  {
   "cell_type": "markdown",
   "id": "5b3a33a6",
   "metadata": {
    "papermill": {
     "duration": 0.034269,
     "end_time": "2022-03-29T06:07:34.898350",
     "exception": false,
     "start_time": "2022-03-29T06:07:34.864081",
     "status": "completed"
    },
    "tags": []
   },
   "source": [
    "## Step 1: Load the Data\n",
    "\n",
    "Read the candy data file into `candy_data`.  Use the `\"id\"` column to label the rows."
   ]
  },
  {
   "cell_type": "code",
   "execution_count": 3,
   "id": "3df601f8",
   "metadata": {
    "execution": {
     "iopub.execute_input": "2022-03-29T06:07:34.969188Z",
     "iopub.status.busy": "2022-03-29T06:07:34.968621Z",
     "iopub.status.idle": "2022-03-29T06:07:34.981486Z",
     "shell.execute_reply": "2022-03-29T06:07:34.982046Z",
     "shell.execute_reply.started": "2022-03-29T05:45:08.779729Z"
    },
    "papermill": {
     "duration": 0.050796,
     "end_time": "2022-03-29T06:07:34.982206",
     "exception": false,
     "start_time": "2022-03-29T06:07:34.931410",
     "status": "completed"
    },
    "tags": []
   },
   "outputs": [
    {
     "data": {
      "application/javascript": [
       "parent.postMessage({\"jupyterEvent\": \"custom.exercise_interaction\", \"data\": {\"outcomeType\": 1, \"valueTowardsCompletion\": 0.3333333333333333, \"interactionType\": 1, \"questionType\": 1, \"questionId\": \"1_LoadData\", \"learnToolsVersion\": \"0.3.4\", \"failureMessage\": \"\", \"exceptionClass\": \"\", \"trace\": \"\"}}, \"*\")"
      ],
      "text/plain": [
       "<IPython.core.display.Javascript object>"
      ]
     },
     "metadata": {},
     "output_type": "display_data"
    },
    {
     "data": {
      "text/markdown": [
       "<span style=\"color:#33cc33\">Correct</span>"
      ],
      "text/plain": [
       "Correct"
      ]
     },
     "metadata": {},
     "output_type": "display_data"
    }
   ],
   "source": [
    "# Path of the file to read\n",
    "candy_filepath = \"../input/candy.csv\"\n",
    "\n",
    "# Fill in the line below to read the file into a variable candy_data\n",
    "candy_data = pd.read_csv(candy_filepath, index_col = 'id')\n",
    "\n",
    "# Run the line below with no changes to check that you've loaded the data correctly\n",
    "step_1.check()"
   ]
  },
  {
   "cell_type": "code",
   "execution_count": 4,
   "id": "eb1f6b1b",
   "metadata": {
    "execution": {
     "iopub.execute_input": "2022-03-29T06:07:35.057961Z",
     "iopub.status.busy": "2022-03-29T06:07:35.057393Z",
     "iopub.status.idle": "2022-03-29T06:07:35.059497Z",
     "shell.execute_reply": "2022-03-29T06:07:35.059874Z"
    },
    "papermill": {
     "duration": 0.041799,
     "end_time": "2022-03-29T06:07:35.060029",
     "exception": false,
     "start_time": "2022-03-29T06:07:35.018230",
     "status": "completed"
    },
    "tags": []
   },
   "outputs": [],
   "source": [
    "# Lines below will give you a hint or solution code\n",
    "#step_1.hint()\n",
    "#step_1.solution()"
   ]
  },
  {
   "cell_type": "markdown",
   "id": "7e446cb9",
   "metadata": {
    "papermill": {
     "duration": 0.036339,
     "end_time": "2022-03-29T06:07:35.132043",
     "exception": false,
     "start_time": "2022-03-29T06:07:35.095704",
     "status": "completed"
    },
    "tags": []
   },
   "source": [
    "## Step 2: Review the data\n",
    "\n",
    "Use a Python command to print the first five rows of the data."
   ]
  },
  {
   "cell_type": "code",
   "execution_count": 5,
   "id": "a58bf81a",
   "metadata": {
    "execution": {
     "iopub.execute_input": "2022-03-29T06:07:35.210835Z",
     "iopub.status.busy": "2022-03-29T06:07:35.210209Z",
     "iopub.status.idle": "2022-03-29T06:07:35.227862Z",
     "shell.execute_reply": "2022-03-29T06:07:35.227376Z",
     "shell.execute_reply.started": "2022-03-29T05:45:12.095198Z"
    },
    "papermill": {
     "duration": 0.058935,
     "end_time": "2022-03-29T06:07:35.227979",
     "exception": false,
     "start_time": "2022-03-29T06:07:35.169044",
     "status": "completed"
    },
    "tags": []
   },
   "outputs": [
    {
     "data": {
      "text/html": [
       "<div>\n",
       "<style scoped>\n",
       "    .dataframe tbody tr th:only-of-type {\n",
       "        vertical-align: middle;\n",
       "    }\n",
       "\n",
       "    .dataframe tbody tr th {\n",
       "        vertical-align: top;\n",
       "    }\n",
       "\n",
       "    .dataframe thead th {\n",
       "        text-align: right;\n",
       "    }\n",
       "</style>\n",
       "<table border=\"1\" class=\"dataframe\">\n",
       "  <thead>\n",
       "    <tr style=\"text-align: right;\">\n",
       "      <th></th>\n",
       "      <th>competitorname</th>\n",
       "      <th>chocolate</th>\n",
       "      <th>fruity</th>\n",
       "      <th>caramel</th>\n",
       "      <th>peanutyalmondy</th>\n",
       "      <th>nougat</th>\n",
       "      <th>crispedricewafer</th>\n",
       "      <th>hard</th>\n",
       "      <th>bar</th>\n",
       "      <th>pluribus</th>\n",
       "      <th>sugarpercent</th>\n",
       "      <th>pricepercent</th>\n",
       "      <th>winpercent</th>\n",
       "    </tr>\n",
       "    <tr>\n",
       "      <th>id</th>\n",
       "      <th></th>\n",
       "      <th></th>\n",
       "      <th></th>\n",
       "      <th></th>\n",
       "      <th></th>\n",
       "      <th></th>\n",
       "      <th></th>\n",
       "      <th></th>\n",
       "      <th></th>\n",
       "      <th></th>\n",
       "      <th></th>\n",
       "      <th></th>\n",
       "      <th></th>\n",
       "    </tr>\n",
       "  </thead>\n",
       "  <tbody>\n",
       "    <tr>\n",
       "      <th>0</th>\n",
       "      <td>100 Grand</td>\n",
       "      <td>Yes</td>\n",
       "      <td>No</td>\n",
       "      <td>Yes</td>\n",
       "      <td>No</td>\n",
       "      <td>No</td>\n",
       "      <td>Yes</td>\n",
       "      <td>No</td>\n",
       "      <td>Yes</td>\n",
       "      <td>No</td>\n",
       "      <td>0.732</td>\n",
       "      <td>0.860</td>\n",
       "      <td>66.971725</td>\n",
       "    </tr>\n",
       "    <tr>\n",
       "      <th>1</th>\n",
       "      <td>3 Musketeers</td>\n",
       "      <td>Yes</td>\n",
       "      <td>No</td>\n",
       "      <td>No</td>\n",
       "      <td>No</td>\n",
       "      <td>Yes</td>\n",
       "      <td>No</td>\n",
       "      <td>No</td>\n",
       "      <td>Yes</td>\n",
       "      <td>No</td>\n",
       "      <td>0.604</td>\n",
       "      <td>0.511</td>\n",
       "      <td>67.602936</td>\n",
       "    </tr>\n",
       "    <tr>\n",
       "      <th>2</th>\n",
       "      <td>Air Heads</td>\n",
       "      <td>No</td>\n",
       "      <td>Yes</td>\n",
       "      <td>No</td>\n",
       "      <td>No</td>\n",
       "      <td>No</td>\n",
       "      <td>No</td>\n",
       "      <td>No</td>\n",
       "      <td>No</td>\n",
       "      <td>No</td>\n",
       "      <td>0.906</td>\n",
       "      <td>0.511</td>\n",
       "      <td>52.341465</td>\n",
       "    </tr>\n",
       "    <tr>\n",
       "      <th>3</th>\n",
       "      <td>Almond Joy</td>\n",
       "      <td>Yes</td>\n",
       "      <td>No</td>\n",
       "      <td>No</td>\n",
       "      <td>Yes</td>\n",
       "      <td>No</td>\n",
       "      <td>No</td>\n",
       "      <td>No</td>\n",
       "      <td>Yes</td>\n",
       "      <td>No</td>\n",
       "      <td>0.465</td>\n",
       "      <td>0.767</td>\n",
       "      <td>50.347546</td>\n",
       "    </tr>\n",
       "    <tr>\n",
       "      <th>4</th>\n",
       "      <td>Baby Ruth</td>\n",
       "      <td>Yes</td>\n",
       "      <td>No</td>\n",
       "      <td>Yes</td>\n",
       "      <td>Yes</td>\n",
       "      <td>Yes</td>\n",
       "      <td>No</td>\n",
       "      <td>No</td>\n",
       "      <td>Yes</td>\n",
       "      <td>No</td>\n",
       "      <td>0.604</td>\n",
       "      <td>0.767</td>\n",
       "      <td>56.914547</td>\n",
       "    </tr>\n",
       "  </tbody>\n",
       "</table>\n",
       "</div>"
      ],
      "text/plain": [
       "   competitorname chocolate fruity caramel peanutyalmondy nougat  \\\n",
       "id                                                                 \n",
       "0       100 Grand       Yes     No     Yes             No     No   \n",
       "1    3 Musketeers       Yes     No      No             No    Yes   \n",
       "2       Air Heads        No    Yes      No             No     No   \n",
       "3      Almond Joy       Yes     No      No            Yes     No   \n",
       "4       Baby Ruth       Yes     No     Yes            Yes    Yes   \n",
       "\n",
       "   crispedricewafer hard  bar pluribus  sugarpercent  pricepercent  winpercent  \n",
       "id                                                                              \n",
       "0               Yes   No  Yes       No         0.732         0.860   66.971725  \n",
       "1                No   No  Yes       No         0.604         0.511   67.602936  \n",
       "2                No   No   No       No         0.906         0.511   52.341465  \n",
       "3                No   No  Yes       No         0.465         0.767   50.347546  \n",
       "4                No   No  Yes       No         0.604         0.767   56.914547  "
      ]
     },
     "execution_count": 5,
     "metadata": {},
     "output_type": "execute_result"
    }
   ],
   "source": [
    "candy_data.head()"
   ]
  },
  {
   "cell_type": "markdown",
   "id": "a2ad8551",
   "metadata": {
    "papermill": {
     "duration": 0.036182,
     "end_time": "2022-03-29T06:07:35.301503",
     "exception": false,
     "start_time": "2022-03-29T06:07:35.265321",
     "status": "completed"
    },
    "tags": []
   },
   "source": [
    "The dataset contains 83 rows, where each corresponds to a different candy bar.  There are 13 columns:\n",
    "- `'competitorname'` contains the name of the candy bar. \n",
    "- the next **9** columns (from `'chocolate'` to `'pluribus'`) describe the candy.  For instance, rows with chocolate candies have `\"Yes\"` in the `'chocolate'` column (and candies without chocolate have `\"No\"` in the same column).\n",
    "- `'sugarpercent'` provides some indication of the amount of sugar, where higher values signify higher sugar content.\n",
    "- `'pricepercent'` shows the price per unit, relative to the other candies in the dataset.\n",
    "- `'winpercent'` is calculated from the survey results; higher values indicate that the candy was more popular with survey respondents.\n",
    "\n",
    "Use the first five rows of the data to answer the questions below."
   ]
  },
  {
   "cell_type": "code",
   "execution_count": 6,
   "id": "416a1289",
   "metadata": {
    "execution": {
     "iopub.execute_input": "2022-03-29T06:07:35.377814Z",
     "iopub.status.busy": "2022-03-29T06:07:35.377240Z",
     "iopub.status.idle": "2022-03-29T06:07:35.383372Z",
     "shell.execute_reply": "2022-03-29T06:07:35.383911Z",
     "shell.execute_reply.started": "2022-03-29T05:45:15.126310Z"
    },
    "papermill": {
     "duration": 0.045516,
     "end_time": "2022-03-29T06:07:35.384085",
     "exception": false,
     "start_time": "2022-03-29T06:07:35.338569",
     "status": "completed"
    },
    "tags": []
   },
   "outputs": [
    {
     "data": {
      "application/javascript": [
       "parent.postMessage({\"jupyterEvent\": \"custom.exercise_interaction\", \"data\": {\"outcomeType\": 1, \"valueTowardsCompletion\": 0.3333333333333333, \"interactionType\": 1, \"questionType\": 1, \"questionId\": \"2_ReviewData\", \"learnToolsVersion\": \"0.3.4\", \"failureMessage\": \"\", \"exceptionClass\": \"\", \"trace\": \"\"}}, \"*\")"
      ],
      "text/plain": [
       "<IPython.core.display.Javascript object>"
      ]
     },
     "metadata": {},
     "output_type": "display_data"
    },
    {
     "data": {
      "text/markdown": [
       "<span style=\"color:#33cc33\">Correct</span>"
      ],
      "text/plain": [
       "Correct"
      ]
     },
     "metadata": {},
     "output_type": "display_data"
    }
   ],
   "source": [
    "# Fill in the line below: Which candy was more popular with survey respondents:\n",
    "# '3 Musketeers' or 'Almond Joy'?  (Please enclose your answer in single quotes.)\n",
    "more_popular = '3 Musketeers'\n",
    "\n",
    "# Fill in the line below: Which candy has higher sugar content: 'Air Heads'\n",
    "# or 'Baby Ruth'? (Please enclose your answer in single quotes.)\n",
    "more_sugar = 'Air Heads'\n",
    "\n",
    "# Check your answers\n",
    "step_2.check()"
   ]
  },
  {
   "cell_type": "code",
   "execution_count": 7,
   "id": "b4690e14",
   "metadata": {
    "execution": {
     "iopub.execute_input": "2022-03-29T06:07:35.460246Z",
     "iopub.status.busy": "2022-03-29T06:07:35.459707Z",
     "iopub.status.idle": "2022-03-29T06:07:35.462346Z",
     "shell.execute_reply": "2022-03-29T06:07:35.462843Z"
    },
    "papermill": {
     "duration": 0.042237,
     "end_time": "2022-03-29T06:07:35.463009",
     "exception": false,
     "start_time": "2022-03-29T06:07:35.420772",
     "status": "completed"
    },
    "tags": []
   },
   "outputs": [],
   "source": [
    "# Lines below will give you a hint or solution code\n",
    "#step_2.hint()\n",
    "#step_2.solution()"
   ]
  },
  {
   "cell_type": "markdown",
   "id": "c5e70bc6",
   "metadata": {
    "papermill": {
     "duration": 0.038198,
     "end_time": "2022-03-29T06:07:35.538974",
     "exception": false,
     "start_time": "2022-03-29T06:07:35.500776",
     "status": "completed"
    },
    "tags": []
   },
   "source": [
    "## Step 3: The role of sugar\n",
    "\n",
    "Do people tend to prefer candies with higher sugar content?  \n",
    "\n",
    "#### Part A\n",
    "\n",
    "Create a scatter plot that shows the relationship between `'sugarpercent'` (on the horizontal x-axis) and `'winpercent'` (on the vertical y-axis).  _Don't add a regression line just yet -- you'll do that in the next step!_"
   ]
  },
  {
   "cell_type": "code",
   "execution_count": 8,
   "id": "5ec09033",
   "metadata": {
    "execution": {
     "iopub.execute_input": "2022-03-29T06:07:35.617963Z",
     "iopub.status.busy": "2022-03-29T06:07:35.617417Z",
     "iopub.status.idle": "2022-03-29T06:07:35.843209Z",
     "shell.execute_reply": "2022-03-29T06:07:35.842597Z",
     "shell.execute_reply.started": "2022-03-29T05:45:18.565265Z"
    },
    "papermill": {
     "duration": 0.265878,
     "end_time": "2022-03-29T06:07:35.843345",
     "exception": false,
     "start_time": "2022-03-29T06:07:35.577467",
     "status": "completed"
    },
    "tags": []
   },
   "outputs": [
    {
     "data": {
      "application/javascript": [
       "parent.postMessage({\"jupyterEvent\": \"custom.exercise_interaction\", \"data\": {\"outcomeType\": 1, \"valueTowardsCompletion\": 0.3333333333333333, \"interactionType\": 1, \"questionType\": 2, \"questionId\": \"3.1_PlotBlueScatter\", \"learnToolsVersion\": \"0.3.4\", \"failureMessage\": \"\", \"exceptionClass\": \"\", \"trace\": \"\"}}, \"*\")"
      ],
      "text/plain": [
       "<IPython.core.display.Javascript object>"
      ]
     },
     "metadata": {},
     "output_type": "display_data"
    },
    {
     "data": {
      "text/markdown": [
       "<span style=\"color:#33cc33\">Correct</span>"
      ],
      "text/plain": [
       "Correct"
      ]
     },
     "metadata": {},
     "output_type": "display_data"
    },
    {
     "data": {
      "image/png": "[encoded data removed]",
      "text/plain": [
       "<Figure size 1008x504 with 1 Axes>"
      ]
     },
     "metadata": {
      "needs_background": "light"
     },
     "output_type": "display_data"
    }
   ],
   "source": [
    "# Scatter plot showing the relationship between 'sugarpercent' and 'winpercent'\n",
    "plt.figure(figsize = (14, 7))\n",
    "plt.title(\"Sugarpercent vs Winpercent\")\n",
    "sns.scatterplot(x = candy_data['sugarpercent'], y = candy_data['winpercent'])\n",
    "# Check your answer\n",
    "step_3.a.check()"
   ]
  },
  {
   "cell_type": "code",
   "execution_count": 9,
   "id": "ac0987dc",
   "metadata": {
    "execution": {
     "iopub.execute_input": "2022-03-29T06:07:35.925551Z",
     "iopub.status.busy": "2022-03-29T06:07:35.924730Z",
     "iopub.status.idle": "2022-03-29T06:07:35.927013Z",
     "shell.execute_reply": "2022-03-29T06:07:35.926582Z"
    },
    "papermill": {
     "duration": 0.044771,
     "end_time": "2022-03-29T06:07:35.927141",
     "exception": false,
     "start_time": "2022-03-29T06:07:35.882370",
     "status": "completed"
    },
    "tags": []
   },
   "outputs": [],
   "source": [
    "# Lines below will give you a hint or solution code\n",
    "#step_3.a.hint()\n",
    "#step_3.a.solution_plot()"
   ]
  },
  {
   "cell_type": "markdown",
   "id": "2b372e0b",
   "metadata": {
    "papermill": {
     "duration": 0.038317,
     "end_time": "2022-03-29T06:07:36.005246",
     "exception": false,
     "start_time": "2022-03-29T06:07:35.966929",
     "status": "completed"
    },
    "tags": []
   },
   "source": [
    "#### Part B\n",
    "\n",
    "Does the scatter plot show a **strong** correlation between the two variables?  If so, are candies with more sugar relatively more or less popular with the survey respondents?"
   ]
  },
  {
   "cell_type": "markdown",
   "id": "1552052e",
   "metadata": {
    "papermill": {
     "duration": 0.039038,
     "end_time": "2022-03-29T06:07:36.083710",
     "exception": false,
     "start_time": "2022-03-29T06:07:36.044672",
     "status": "completed"
    },
    "tags": []
   },
   "source": []
  },
  {
   "cell_type": "markdown",
   "id": "18be461d",
   "metadata": {
    "papermill": {
     "duration": 0.037935,
     "end_time": "2022-03-29T06:07:36.160189",
     "exception": false,
     "start_time": "2022-03-29T06:07:36.122254",
     "status": "completed"
    },
    "tags": []
   },
   "source": [
    "##### Weak correlation between sugarpercent and winpercent, so whether candies with more sugar, it does not affect the popular."
   ]
  },
  {
   "cell_type": "code",
   "execution_count": 10,
   "id": "ab0570fe",
   "metadata": {
    "execution": {
     "iopub.execute_input": "2022-03-29T06:07:36.240852Z",
     "iopub.status.busy": "2022-03-29T06:07:36.239966Z",
     "iopub.status.idle": "2022-03-29T06:07:36.242057Z",
     "shell.execute_reply": "2022-03-29T06:07:36.242440Z"
    },
    "papermill": {
     "duration": 0.044213,
     "end_time": "2022-03-29T06:07:36.242573",
     "exception": false,
     "start_time": "2022-03-29T06:07:36.198360",
     "status": "completed"
    },
    "tags": []
   },
   "outputs": [],
   "source": [
    "#step_3.b.hint()"
   ]
  },
  {
   "cell_type": "code",
   "execution_count": 11,
   "id": "b3e6d189",
   "metadata": {
    "execution": {
     "iopub.execute_input": "2022-03-29T06:07:36.325608Z",
     "iopub.status.busy": "2022-03-29T06:07:36.324597Z",
     "iopub.status.idle": "2022-03-29T06:07:36.329201Z",
     "shell.execute_reply": "2022-03-29T06:07:36.329653Z",
     "shell.execute_reply.started": "2022-03-29T04:40:20.919687Z"
    },
    "papermill": {
     "duration": 0.048628,
     "end_time": "2022-03-29T06:07:36.329790",
     "exception": false,
     "start_time": "2022-03-29T06:07:36.281162",
     "status": "completed"
    },
    "tags": []
   },
   "outputs": [
    {
     "data": {
      "application/javascript": [
       "parent.postMessage({\"jupyterEvent\": \"custom.exercise_interaction\", \"data\": {\"interactionType\": 3, \"questionType\": 4, \"questionId\": \"3.2_ThinkBlueScatter\", \"learnToolsVersion\": \"0.3.4\", \"valueTowardsCompletion\": 0.0, \"failureMessage\": \"\", \"exceptionClass\": \"\", \"trace\": \"\", \"outcomeType\": 4}}, \"*\")"
      ],
      "text/plain": [
       "<IPython.core.display.Javascript object>"
      ]
     },
     "metadata": {},
     "output_type": "display_data"
    },
    {
     "data": {
      "text/markdown": [
       "<span style=\"color:#33cc99\">Solution:</span> The scatter plot does not show a strong correlation between the two variables. Since there is no clear relationship between the two variables, this tells us that sugar content does not play a strong role in candy popularity."
      ],
      "text/plain": [
       "Solution: The scatter plot does not show a strong correlation between the two variables. Since there is no clear relationship between the two variables, this tells us that sugar content does not play a strong role in candy popularity."
      ]
     },
     "metadata": {},
     "output_type": "display_data"
    }
   ],
   "source": [
    "# Check your answer (Run this code cell to receive credit!)\n",
    "step_3.b.solution()"
   ]
  },
  {
   "cell_type": "markdown",
   "id": "bc93dc19",
   "metadata": {
    "papermill": {
     "duration": 0.039168,
     "end_time": "2022-03-29T06:07:36.408263",
     "exception": false,
     "start_time": "2022-03-29T06:07:36.369095",
     "status": "completed"
    },
    "tags": []
   },
   "source": [
    "## Step 4: Take a closer look\n",
    "\n",
    "#### Part A\n",
    "\n",
    "Create the same scatter plot you created in **Step 3**, but now with a regression line!"
   ]
  },
  {
   "cell_type": "code",
   "execution_count": 12,
   "id": "9f4f2f2a",
   "metadata": {
    "execution": {
     "iopub.execute_input": "2022-03-29T06:07:36.504371Z",
     "iopub.status.busy": "2022-03-29T06:07:36.503497Z",
     "iopub.status.idle": "2022-03-29T06:07:36.823097Z",
     "shell.execute_reply": "2022-03-29T06:07:36.823502Z",
     "shell.execute_reply.started": "2022-03-29T05:47:01.412942Z"
    },
    "papermill": {
     "duration": 0.376114,
     "end_time": "2022-03-29T06:07:36.823657",
     "exception": false,
     "start_time": "2022-03-29T06:07:36.447543",
     "status": "completed"
    },
    "tags": []
   },
   "outputs": [
    {
     "data": {
      "application/javascript": [
       "parent.postMessage({\"jupyterEvent\": \"custom.exercise_interaction\", \"data\": {\"outcomeType\": 1, \"valueTowardsCompletion\": 0.3333333333333333, \"interactionType\": 1, \"questionType\": 2, \"questionId\": \"4.1_PlotBlueReg\", \"learnToolsVersion\": \"0.3.4\", \"failureMessage\": \"\", \"exceptionClass\": \"\", \"trace\": \"\"}}, \"*\")"
      ],
      "text/plain": [
       "<IPython.core.display.Javascript object>"
      ]
     },
     "metadata": {},
     "output_type": "display_data"
    },
    {
     "data": {
      "text/markdown": [
       "<span style=\"color:#33cc33\">Correct</span>"
      ],
      "text/plain": [
       "Correct"
      ]
     },
     "metadata": {},
     "output_type": "display_data"
    },
    {
     "data": {
      "image/png": "[encoded data removed]",
      "text/plain": [
       "<Figure size 1008x504 with 1 Axes>"
      ]
     },
     "metadata": {
      "needs_background": "light"
     },
     "output_type": "display_data"
    }
   ],
   "source": [
    "# Scatter plot w/ regression line showing the relationship between 'sugarpercent' and 'winpercent'\n",
    "plt.figure(figsize = (14, 7))\n",
    "plt.title(\"Sugarpercent vs Winpercent\")\n",
    "sns.regplot(x = candy_data['sugarpercent'], y = candy_data['winpercent'])\n",
    "# Check your answer\n",
    "step_4.a.check()"
   ]
  },
  {
   "cell_type": "code",
   "execution_count": 13,
   "id": "84892473",
   "metadata": {
    "execution": {
     "iopub.execute_input": "2022-03-29T06:07:36.914210Z",
     "iopub.status.busy": "2022-03-29T06:07:36.913607Z",
     "iopub.status.idle": "2022-03-29T06:07:36.916062Z",
     "shell.execute_reply": "2022-03-29T06:07:36.915490Z"
    },
    "papermill": {
     "duration": 0.049875,
     "end_time": "2022-03-29T06:07:36.916179",
     "exception": false,
     "start_time": "2022-03-29T06:07:36.866304",
     "status": "completed"
    },
    "tags": []
   },
   "outputs": [],
   "source": [
    "# Lines below will give you a hint or solution code\n",
    "#step_4.a.hint()\n",
    "#step_4.a.solution_plot()"
   ]
  },
  {
   "cell_type": "markdown",
   "id": "e41f1829",
   "metadata": {
    "papermill": {
     "duration": 0.04278,
     "end_time": "2022-03-29T06:07:37.001591",
     "exception": false,
     "start_time": "2022-03-29T06:07:36.958811",
     "status": "completed"
    },
    "tags": []
   },
   "source": [
    "#### Part B\n",
    "\n",
    "According to the plot above, is there a **slight** correlation between `'winpercent'` and `'sugarpercent'`?  What does this tell you about the candy that people tend to prefer?"
   ]
  },
  {
   "cell_type": "markdown",
   "id": "75559e8d",
   "metadata": {
    "papermill": {
     "duration": 0.042631,
     "end_time": "2022-03-29T06:07:37.087298",
     "exception": false,
     "start_time": "2022-03-29T06:07:37.044667",
     "status": "completed"
    },
    "tags": []
   },
   "source": [
    "##### People tend to prefer more sugar."
   ]
  },
  {
   "cell_type": "code",
   "execution_count": 14,
   "id": "610574f4",
   "metadata": {
    "execution": {
     "iopub.execute_input": "2022-03-29T06:07:37.177911Z",
     "iopub.status.busy": "2022-03-29T06:07:37.177328Z",
     "iopub.status.idle": "2022-03-29T06:07:37.179670Z",
     "shell.execute_reply": "2022-03-29T06:07:37.180250Z"
    },
    "papermill": {
     "duration": 0.050303,
     "end_time": "2022-03-29T06:07:37.180404",
     "exception": false,
     "start_time": "2022-03-29T06:07:37.130101",
     "status": "completed"
    },
    "tags": []
   },
   "outputs": [],
   "source": [
    "#step_4.b.hint()"
   ]
  },
  {
   "cell_type": "code",
   "execution_count": 15,
   "id": "d60a997d",
   "metadata": {
    "execution": {
     "iopub.execute_input": "2022-03-29T06:07:37.268803Z",
     "iopub.status.busy": "2022-03-29T06:07:37.268273Z",
     "iopub.status.idle": "2022-03-29T06:07:37.273369Z",
     "shell.execute_reply": "2022-03-29T06:07:37.273822Z",
     "shell.execute_reply.started": "2022-03-29T05:48:00.274749Z"
    },
    "papermill": {
     "duration": 0.05057,
     "end_time": "2022-03-29T06:07:37.273969",
     "exception": false,
     "start_time": "2022-03-29T06:07:37.223399",
     "status": "completed"
    },
    "tags": []
   },
   "outputs": [
    {
     "data": {
      "application/javascript": [
       "parent.postMessage({\"jupyterEvent\": \"custom.exercise_interaction\", \"data\": {\"interactionType\": 3, \"questionType\": 4, \"questionId\": \"4.2_ThinkBlueReg\", \"learnToolsVersion\": \"0.3.4\", \"valueTowardsCompletion\": 0.0, \"failureMessage\": \"\", \"exceptionClass\": \"\", \"trace\": \"\", \"outcomeType\": 4}}, \"*\")"
      ],
      "text/plain": [
       "<IPython.core.display.Javascript object>"
      ]
     },
     "metadata": {},
     "output_type": "display_data"
    },
    {
     "data": {
      "text/markdown": [
       "<span style=\"color:#33cc99\">Solution:</span> Since the regression line has a slightly positive slope, this tells us that there is a slightly positive correlation between `'winpercent'` and `'sugarpercent'`. Thus, people have a slight preference for candies containing relatively more sugar."
      ],
      "text/plain": [
       "Solution: Since the regression line has a slightly positive slope, this tells us that there is a slightly positive correlation between `'winpercent'` and `'sugarpercent'`. Thus, people have a slight preference for candies containing relatively more sugar."
      ]
     },
     "metadata": {},
     "output_type": "display_data"
    }
   ],
   "source": [
    "# Check your answer (Run this code cell to receive credit!)\n",
    "step_4.b.solution()"
   ]
  },
  {
   "cell_type": "markdown",
   "id": "f1dbe148",
   "metadata": {
    "papermill": {
     "duration": 0.044399,
     "end_time": "2022-03-29T06:07:37.362485",
     "exception": false,
     "start_time": "2022-03-29T06:07:37.318086",
     "status": "completed"
    },
    "tags": []
   },
   "source": [
    "## Step 5: Chocolate!\n",
    "\n",
    "In the code cell below, create a scatter plot to show the relationship between `'pricepercent'` (on the horizontal x-axis) and `'winpercent'` (on the vertical y-axis). Use the `'chocolate'` column to color-code the points.  _Don't add any regression lines just yet -- you'll do that in the next step!_"
   ]
  },
  {
   "cell_type": "code",
   "execution_count": 16,
   "id": "9e67e15b",
   "metadata": {
    "execution": {
     "iopub.execute_input": "2022-03-29T06:07:37.454901Z",
     "iopub.status.busy": "2022-03-29T06:07:37.454268Z",
     "iopub.status.idle": "2022-03-29T06:07:37.748322Z",
     "shell.execute_reply": "2022-03-29T06:07:37.748791Z",
     "shell.execute_reply.started": "2022-03-29T05:50:05.799318Z"
    },
    "papermill": {
     "duration": 0.342855,
     "end_time": "2022-03-29T06:07:37.748959",
     "exception": false,
     "start_time": "2022-03-29T06:07:37.406104",
     "status": "completed"
    },
    "tags": []
   },
   "outputs": [
    {
     "data": {
      "application/javascript": [
       "parent.postMessage({\"jupyterEvent\": \"custom.exercise_interaction\", \"data\": {\"outcomeType\": 1, \"valueTowardsCompletion\": 0.3333333333333333, \"interactionType\": 1, \"questionType\": 2, \"questionId\": \"5_ColorScatter\", \"learnToolsVersion\": \"0.3.4\", \"failureMessage\": \"\", \"exceptionClass\": \"\", \"trace\": \"\"}}, \"*\")"
      ],
      "text/plain": [
       "<IPython.core.display.Javascript object>"
      ]
     },
     "metadata": {},
     "output_type": "display_data"
    },
    {
     "data": {
      "text/markdown": [
       "<span style=\"color:#33cc33\">Correct</span>"
      ],
      "text/plain": [
       "Correct"
      ]
     },
     "metadata": {},
     "output_type": "display_data"
    },
    {
     "data": {
      "image/png": "[encoded data removed]",
      "text/plain": [
       "<Figure size 1008x504 with 1 Axes>"
      ]
     },
     "metadata": {
      "needs_background": "light"
     },
     "output_type": "display_data"
    }
   ],
   "source": [
    "# Scatter plot showing the relationship between 'pricepercent', 'winpercent', and 'chocolate'\n",
    "plt.figure(figsize = (14, 7))\n",
    "plt.title(\"Pricepercent with Winpercent\")\n",
    "sns.scatterplot(x = candy_data['pricepercent'], y = candy_data['winpercent'], hue = candy_data['chocolate'])\n",
    "\n",
    "# Check your answer\n",
    "step_5.check()"
   ]
  },
  {
   "cell_type": "code",
   "execution_count": 17,
   "id": "86c444fa",
   "metadata": {
    "execution": {
     "iopub.execute_input": "2022-03-29T06:07:37.845522Z",
     "iopub.status.busy": "2022-03-29T06:07:37.844823Z",
     "iopub.status.idle": "2022-03-29T06:07:37.846276Z",
     "shell.execute_reply": "2022-03-29T06:07:37.846777Z"
    },
    "papermill": {
     "duration": 0.052225,
     "end_time": "2022-03-29T06:07:37.846922",
     "exception": false,
     "start_time": "2022-03-29T06:07:37.794697",
     "status": "completed"
    },
    "tags": []
   },
   "outputs": [],
   "source": [
    "# Lines below will give you a hint or solution code\n",
    "#step_5.hint()\n",
    "#step_5.solution_plot()"
   ]
  },
  {
   "cell_type": "markdown",
   "id": "305c631f",
   "metadata": {
    "papermill": {
     "duration": 0.046769,
     "end_time": "2022-03-29T06:07:37.939238",
     "exception": false,
     "start_time": "2022-03-29T06:07:37.892469",
     "status": "completed"
    },
    "tags": []
   },
   "source": [
    "Can you see any interesting patterns in the scatter plot?  We'll investigate this plot further  by adding regression lines in the next step!\n",
    "\n",
    "## Step 6: Investigate chocolate\n",
    "\n",
    "#### Part A\n",
    "\n",
    "Create the same scatter plot you created in **Step 5**, but now with two regression lines, corresponding to (1) chocolate candies and (2) candies without chocolate."
   ]
  },
  {
   "cell_type": "code",
   "execution_count": 18,
   "id": "09a61454",
   "metadata": {
    "execution": {
     "iopub.execute_input": "2022-03-29T06:07:38.034539Z",
     "iopub.status.busy": "2022-03-29T06:07:38.033931Z",
     "iopub.status.idle": "2022-03-29T06:07:38.633866Z",
     "shell.execute_reply": "2022-03-29T06:07:38.634304Z",
     "shell.execute_reply.started": "2022-03-29T06:02:28.790647Z"
    },
    "papermill": {
     "duration": 0.648549,
     "end_time": "2022-03-29T06:07:38.634460",
     "exception": false,
     "start_time": "2022-03-29T06:07:37.985911",
     "status": "completed"
    },
    "tags": []
   },
   "outputs": [
    {
     "data": {
      "application/javascript": [
       "parent.postMessage({\"jupyterEvent\": \"custom.exercise_interaction\", \"data\": {\"outcomeType\": 1, \"valueTowardsCompletion\": 0.3333333333333333, \"interactionType\": 1, \"questionType\": 2, \"questionId\": \"6.1_PlotColorReg\", \"learnToolsVersion\": \"0.3.4\", \"failureMessage\": \"\", \"exceptionClass\": \"\", \"trace\": \"\"}}, \"*\")"
      ],
      "text/plain": [
       "<IPython.core.display.Javascript object>"
      ]
     },
     "metadata": {},
     "output_type": "display_data"
    },
    {
     "data": {
      "text/markdown": [
       "<span style=\"color:#33cc33\">Correct</span>"
      ],
      "text/plain": [
       "Correct"
      ]
     },
     "metadata": {},
     "output_type": "display_data"
    },
    {
     "data": {
      "image/png": "[encoded data removed]",
      "text/plain": [
       "<Figure size 416.375x360 with 1 Axes>"
      ]
     },
     "metadata": {
      "needs_background": "light"
     },
     "output_type": "display_data"
    }
   ],
   "source": [
    "# Color-coded scatter plot w/ regression lines\n",
    "sns.lmplot(x=\"pricepercent\", y=\"winpercent\", hue=\"chocolate\", data=candy_data)\n",
    "\n",
    "# Check your answer\n",
    "step_6.a.check()"
   ]
  },
  {
   "cell_type": "code",
   "execution_count": 19,
   "id": "4890a54f",
   "metadata": {
    "execution": {
     "iopub.execute_input": "2022-03-29T06:07:38.738481Z",
     "iopub.status.busy": "2022-03-29T06:07:38.737866Z",
     "iopub.status.idle": "2022-03-29T06:07:38.739415Z",
     "shell.execute_reply": "2022-03-29T06:07:38.739853Z",
     "shell.execute_reply.started": "2022-03-29T06:02:16.819315Z"
    },
    "papermill": {
     "duration": 0.05657,
     "end_time": "2022-03-29T06:07:38.739983",
     "exception": false,
     "start_time": "2022-03-29T06:07:38.683413",
     "status": "completed"
    },
    "tags": []
   },
   "outputs": [],
   "source": [
    "# Lines below will give you a hint or solution code\n",
    "#step_6.a.hint()\n",
    "# step_6.a.solution_plot()"
   ]
  },
  {
   "cell_type": "markdown",
   "id": "24d3baf7",
   "metadata": {
    "papermill": {
     "duration": 0.047898,
     "end_time": "2022-03-29T06:07:38.835888",
     "exception": false,
     "start_time": "2022-03-29T06:07:38.787990",
     "status": "completed"
    },
    "tags": []
   },
   "source": [
    "#### Part B\n",
    "\n",
    "Using the regression lines, what conclusions can you draw about the effects of chocolate and price on candy popularity?"
   ]
  },
  {
   "cell_type": "markdown",
   "id": "db70d347",
   "metadata": {
    "papermill": {
     "duration": 0.049481,
     "end_time": "2022-03-29T06:07:38.933814",
     "exception": false,
     "start_time": "2022-03-29T06:07:38.884333",
     "status": "completed"
    },
    "tags": []
   },
   "source": [
    "##### With candies have chocolate, when price is increasing then popular is increasing\n",
    "##### With candies don't have chocolate, when price is increasing then popular is decreasing."
   ]
  },
  {
   "cell_type": "code",
   "execution_count": 20,
   "id": "67157718",
   "metadata": {
    "execution": {
     "iopub.execute_input": "2022-03-29T06:07:39.033560Z",
     "iopub.status.busy": "2022-03-29T06:07:39.032974Z",
     "iopub.status.idle": "2022-03-29T06:07:39.036463Z",
     "shell.execute_reply": "2022-03-29T06:07:39.036855Z"
    },
    "papermill": {
     "duration": 0.054754,
     "end_time": "2022-03-29T06:07:39.037023",
     "exception": false,
     "start_time": "2022-03-29T06:07:38.982269",
     "status": "completed"
    },
    "tags": []
   },
   "outputs": [],
   "source": [
    "#step_6.b.hint()"
   ]
  },
  {
   "cell_type": "code",
   "execution_count": 21,
   "id": "c9157f53",
   "metadata": {
    "execution": {
     "iopub.execute_input": "2022-03-29T06:07:39.143540Z",
     "iopub.status.busy": "2022-03-29T06:07:39.143025Z",
     "iopub.status.idle": "2022-03-29T06:07:39.147858Z",
     "shell.execute_reply": "2022-03-29T06:07:39.148395Z",
     "shell.execute_reply.started": "2022-03-29T06:04:20.191244Z"
    },
    "papermill": {
     "duration": 0.061387,
     "end_time": "2022-03-29T06:07:39.148557",
     "exception": false,
     "start_time": "2022-03-29T06:07:39.087170",
     "status": "completed"
    },
    "tags": []
   },
   "outputs": [
    {
     "data": {
      "application/javascript": [
       "parent.postMessage({\"jupyterEvent\": \"custom.exercise_interaction\", \"data\": {\"interactionType\": 3, \"questionType\": 4, \"questionId\": \"6.2_ThinkColorReg\", \"learnToolsVersion\": \"0.3.4\", \"valueTowardsCompletion\": 0.0, \"failureMessage\": \"\", \"exceptionClass\": \"\", \"trace\": \"\", \"outcomeType\": 4}}, \"*\")"
      ],
      "text/plain": [
       "<IPython.core.display.Javascript object>"
      ]
     },
     "metadata": {},
     "output_type": "display_data"
    },
    {
     "data": {
      "text/markdown": [
       "<span style=\"color:#33cc99\">Solution:</span> We'll begin with the regression line for chocolate candies. Since this line has a slightly positive slope, we can say that more expensive chocolate candies tend to be more popular (than relatively cheaper chocolate candies).  Likewise, since the regression line for candies without chocolate has a negative slope, we can say that if candies don't contain chocolate, they tend to be more popular when they are cheaper.  One important note, however, is that the dataset is quite small -- so we shouldn't invest too much trust in these patterns!  To inspire more confidence in the results, we should add more candies to the dataset."
      ],
      "text/plain": [
       "Solution: We'll begin with the regression line for chocolate candies. Since this line has a slightly positive slope, we can say that more expensive chocolate candies tend to be more popular (than relatively cheaper chocolate candies).  Likewise, since the regression line for candies without chocolate has a negative slope, we can say that if candies don't contain chocolate, they tend to be more popular when they are cheaper.  One important note, however, is that the dataset is quite small -- so we shouldn't invest too much trust in these patterns!  To inspire more confidence in the results, we should add more candies to the dataset."
      ]
     },
     "metadata": {},
     "output_type": "display_data"
    }
   ],
   "source": [
    "# Check your answer (Run this code cell to receive credit!)\n",
    "step_6.b.solution()"
   ]
  },
  {
   "cell_type": "markdown",
   "id": "52548119",
   "metadata": {
    "papermill": {
     "duration": 0.05043,
     "end_time": "2022-03-29T06:07:39.251757",
     "exception": false,
     "start_time": "2022-03-29T06:07:39.201327",
     "status": "completed"
    },
    "tags": []
   },
   "source": [
    "## Step 7: Everybody loves chocolate.\n",
    "\n",
    "#### Part A\n",
    "\n",
    "Create a categorical scatter plot to highlight the relationship between `'chocolate'` and `'winpercent'`.  Put `'chocolate'` on the (horizontal) x-axis, and `'winpercent'` on the (vertical) y-axis."
   ]
  },
  {
   "cell_type": "code",
   "execution_count": 22,
   "id": "84fb0a2d",
   "metadata": {
    "execution": {
     "iopub.execute_input": "2022-03-29T06:07:39.360562Z",
     "iopub.status.busy": "2022-03-29T06:07:39.360047Z",
     "iopub.status.idle": "2022-03-29T06:07:39.543908Z",
     "shell.execute_reply": "2022-03-29T06:07:39.544407Z",
     "shell.execute_reply.started": "2022-03-29T06:05:41.055687Z"
    },
    "papermill": {
     "duration": 0.24212,
     "end_time": "2022-03-29T06:07:39.544585",
     "exception": false,
     "start_time": "2022-03-29T06:07:39.302465",
     "status": "completed"
    },
    "tags": []
   },
   "outputs": [
    {
     "data": {
      "application/javascript": [
       "parent.postMessage({\"jupyterEvent\": \"custom.exercise_interaction\", \"data\": {\"outcomeType\": 1, \"valueTowardsCompletion\": 0.3333333333333333, \"interactionType\": 1, \"questionType\": 2, \"questionId\": \"7.1_PlotSwarm\", \"learnToolsVersion\": \"0.3.4\", \"failureMessage\": \"\", \"exceptionClass\": \"\", \"trace\": \"\"}}, \"*\")"
      ],
      "text/plain": [
       "<IPython.core.display.Javascript object>"
      ]
     },
     "metadata": {},
     "output_type": "display_data"
    },
    {
     "data": {
      "text/markdown": [
       "<span style=\"color:#33cc33\">Correct</span>"
      ],
      "text/plain": [
       "Correct"
      ]
     },
     "metadata": {},
     "output_type": "display_data"
    },
    {
     "data": {
      "image/png": "[encoded data removed]",
      "text/plain": [
       "<Figure size 432x288 with 1 Axes>"
      ]
     },
     "metadata": {
      "needs_background": "light"
     },
     "output_type": "display_data"
    }
   ],
   "source": [
    "# Scatter plot showing the relationship between 'chocolate' and 'winpercent'\n",
    "sns.swarmplot(x = candy_data[\"chocolate\"], y = candy_data[\"winpercent\"])\n",
    "\n",
    "# Check your answer\n",
    "step_7.a.check()"
   ]
  },
  {
   "cell_type": "code",
   "execution_count": 23,
   "id": "e7eacc1c",
   "metadata": {
    "execution": {
     "iopub.execute_input": "2022-03-29T06:07:39.657698Z",
     "iopub.status.busy": "2022-03-29T06:07:39.656829Z",
     "iopub.status.idle": "2022-03-29T06:07:39.659230Z",
     "shell.execute_reply": "2022-03-29T06:07:39.659599Z"
    },
    "papermill": {
     "duration": 0.05959,
     "end_time": "2022-03-29T06:07:39.659731",
     "exception": false,
     "start_time": "2022-03-29T06:07:39.600141",
     "status": "completed"
    },
    "tags": []
   },
   "outputs": [],
   "source": [
    "# Lines below will give you a hint or solution code\n",
    "#step_7.a.hint()\n",
    "#step_7.a.solution_plot()"
   ]
  },
  {
   "cell_type": "markdown",
   "id": "6eb7ab5e",
   "metadata": {
    "papermill": {
     "duration": 0.051572,
     "end_time": "2022-03-29T06:07:39.764248",
     "exception": false,
     "start_time": "2022-03-29T06:07:39.712676",
     "status": "completed"
    },
    "tags": []
   },
   "source": [
    "#### Part B\n",
    "\n",
    "You decide to dedicate a section of your report to the fact that chocolate candies tend to be more popular than candies without chocolate.  Which plot is more appropriate to tell this story: the plot from **Step 6**, or the plot from **Step 7**?"
   ]
  },
  {
   "cell_type": "markdown",
   "id": "a47eee8a",
   "metadata": {
    "papermill": {
     "duration": 0.051469,
     "end_time": "2022-03-29T06:07:39.868394",
     "exception": false,
     "start_time": "2022-03-29T06:07:39.816925",
     "status": "completed"
    },
    "tags": []
   },
   "source": [
    "##### Step 7 is more apppropriate story."
   ]
  },
  {
   "cell_type": "code",
   "execution_count": 24,
   "id": "71466c46",
   "metadata": {
    "execution": {
     "iopub.execute_input": "2022-03-29T06:07:39.978103Z",
     "iopub.status.busy": "2022-03-29T06:07:39.977420Z",
     "iopub.status.idle": "2022-03-29T06:07:39.979720Z",
     "shell.execute_reply": "2022-03-29T06:07:39.979161Z"
    },
    "papermill": {
     "duration": 0.059461,
     "end_time": "2022-03-29T06:07:39.979850",
     "exception": false,
     "start_time": "2022-03-29T06:07:39.920389",
     "status": "completed"
    },
    "tags": []
   },
   "outputs": [],
   "source": [
    "#step_7.b.hint()"
   ]
  },
  {
   "cell_type": "code",
   "execution_count": 25,
   "id": "1b677457",
   "metadata": {
    "execution": {
     "iopub.execute_input": "2022-03-29T06:07:40.097872Z",
     "iopub.status.busy": "2022-03-29T06:07:40.097311Z",
     "iopub.status.idle": "2022-03-29T06:07:40.102151Z",
     "shell.execute_reply": "2022-03-29T06:07:40.101620Z",
     "shell.execute_reply.started": "2022-03-29T06:06:50.293419Z"
    },
    "papermill": {
     "duration": 0.065251,
     "end_time": "2022-03-29T06:07:40.102292",
     "exception": false,
     "start_time": "2022-03-29T06:07:40.037041",
     "status": "completed"
    },
    "tags": []
   },
   "outputs": [
    {
     "data": {
      "application/javascript": [
       "parent.postMessage({\"jupyterEvent\": \"custom.exercise_interaction\", \"data\": {\"interactionType\": 3, \"questionType\": 4, \"questionId\": \"7.2_ThinkSwarm\", \"learnToolsVersion\": \"0.3.4\", \"valueTowardsCompletion\": 0.0, \"failureMessage\": \"\", \"exceptionClass\": \"\", \"trace\": \"\", \"outcomeType\": 4}}, \"*\")"
      ],
      "text/plain": [
       "<IPython.core.display.Javascript object>"
      ]
     },
     "metadata": {},
     "output_type": "display_data"
    },
    {
     "data": {
      "text/markdown": [
       "<span style=\"color:#33cc99\">Solution:</span> In this case, the categorical scatter plot from **Step 7** is the more appropriate plot. While both plots tell the desired story, the plot from **Step 6** conveys far more information that could distract from the main point."
      ],
      "text/plain": [
       "Solution: In this case, the categorical scatter plot from **Step 7** is the more appropriate plot. While both plots tell the desired story, the plot from **Step 6** conveys far more information that could distract from the main point."
      ]
     },
     "metadata": {},
     "output_type": "display_data"
    }
   ],
   "source": [
    "# Check your answer (Run this code cell to receive credit!)\n",
    "step_7.b.solution()"
   ]
  },
  {
   "cell_type": "markdown",
   "id": "82ab6057",
   "metadata": {
    "papermill": {
     "duration": 0.054427,
     "end_time": "2022-03-29T06:07:40.211963",
     "exception": false,
     "start_time": "2022-03-29T06:07:40.157536",
     "status": "completed"
    },
    "tags": []
   },
   "source": [
    "## Keep going\n",
    "\n",
    "Explore **[histograms and density plots](https://www.kaggle.com/alexisbcook/distributions)**."
   ]
  },
  {
   "cell_type": "markdown",
   "id": "aaeec75d",
   "metadata": {
    "papermill": {
     "duration": 0.055025,
     "end_time": "2022-03-29T06:07:40.321201",
     "exception": false,
     "start_time": "2022-03-29T06:07:40.266176",
     "status": "completed"
    },
    "tags": []
   },
   "source": [
    "---\n",
    "\n",
    "\n",
    "\n",
    "\n",
    "*Have questions or comments? Visit the [course discussion forum](https://www.kaggle.com/learn/data-visualization/discussion) to chat with other learners.*"
   ]
  }
 ],
 "metadata": {
  "kernelspec": {
   "display_name": "Python 3",
   "language": "python",
   "name": "python3"
  },
  "language_info": {
   "codemirror_mode": {
    "name": "ipython",
    "version": 3
   },
   "file_extension": ".py",
   "mimetype": "text/x-python",
   "name": "python",
   "nbconvert_exporter": "python",
   "pygments_lexer": "ipython3",
   "version": "3.7.12"
  },
  "papermill": {
   "default_parameters": {},
   "duration": 16.218399,
   "end_time": "2022-03-29T06:07:40.984034",
   "environment_variables": {},
   "exception": null,
   "input_path": "__notebook__.ipynb",
   "output_path": "__notebook__.ipynb",
   "parameters": {},
   "start_time": "2022-03-29T06:07:24.765635",
   "version": "2.3.3"
  }
 },
 "nbformat": 4,
 "nbformat_minor": 5
}
